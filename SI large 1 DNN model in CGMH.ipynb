{
 "cells": [
  {
   "cell_type": "code",
   "execution_count": 1,
   "id": "a3fbcd77",
   "metadata": {},
   "outputs": [],
   "source": [
    "import keras,pandas as pd,os\n",
    "import tensorflow as tf\n",
    "from sklearn.metrics import roc_auc_score\n",
    "from keras.models import Sequential\n",
    "from keras.layers import Dense,Activation,Dropout\n",
    "from tensorflow.keras.layers import BatchNormalization\n",
    "from keras.callbacks import Callback, EarlyStopping\n",
    "from tensorflow.keras import regularizers\n",
    "from tensorflow.keras.optimizers import SGD,Adamax,RMSprop,Adam,Nadam"
   ]
  },
  {
   "cell_type": "code",
   "execution_count": 2,
   "id": "e9cd285f",
   "metadata": {},
   "outputs": [
    {
     "name": "stdout",
     "output_type": "stream",
     "text": [
      "10\n",
      "(4314,)\n",
      "(4314, 10)\n"
     ]
    }
   ],
   "source": [
    "\n",
    "S_1=pd.read_csv('Siover1_rf_top10_cgmh_data.csv')\n",
    "\n",
    "\n",
    "data_shape = S_1.shape\n",
    "\n",
    "\n",
    "Siov1_x=S_1.iloc[:,1:data_shape[1]]\n",
    "Siov1_y=S_1['si1m']\n",
    "\n",
    "print(Siov1_x.shape[1])\n",
    "print(Siov1_y.shape)\n",
    "print(Siov1_x.shape)"
   ]
  },
  {
   "cell_type": "code",
   "execution_count": 3,
   "id": "2361209d",
   "metadata": {},
   "outputs": [],
   "source": [
    "\n",
    "from sklearn.model_selection import train_test_split\n",
    "from utils.dataloader import normalized\n"
   ]
  },
  {
   "cell_type": "code",
   "execution_count": 4,
   "id": "1fd1d03a",
   "metadata": {},
   "outputs": [
    {
     "data": {
      "text/plain": [
       "(4314, 10)"
      ]
     },
     "execution_count": 4,
     "metadata": {},
     "output_type": "execute_result"
    }
   ],
   "source": [
    "Siov1_x.shape"
   ]
  },
  {
   "cell_type": "code",
   "execution_count": 5,
   "id": "6c332442",
   "metadata": {},
   "outputs": [],
   "source": [
    "S_3_test=pd.read_csv('Siover1_rf_top10_cgmh_data_test.csv')\n",
    "S_3_train=pd.read_csv('Siover1_rf_top10_cgmh_data_train.csv')\n"
   ]
  },
  {
   "cell_type": "code",
   "execution_count": 8,
   "id": "05d73d73",
   "metadata": {},
   "outputs": [
    {
     "data": {
      "text/plain": [
       "(3237, 11)"
      ]
     },
     "execution_count": 8,
     "metadata": {},
     "output_type": "execute_result"
    }
   ],
   "source": [
    "S_3_test.shape\n"
   ]
  },
  {
   "cell_type": "code",
   "execution_count": 9,
   "id": "476d913e",
   "metadata": {},
   "outputs": [
    {
     "data": {
      "text/plain": [
       "(1077, 11)"
      ]
     },
     "execution_count": 9,
     "metadata": {},
     "output_type": "execute_result"
    }
   ],
   "source": [
    "S_3_train.shape"
   ]
  },
  {
   "cell_type": "code",
   "execution_count": 10,
   "id": "26aeb033",
   "metadata": {},
   "outputs": [
    {
     "data": {
      "text/plain": [
       "(3237, 10)"
      ]
     },
     "execution_count": 10,
     "metadata": {},
     "output_type": "execute_result"
    }
   ],
   "source": [
    "test_x = S_3_test.iloc[:,1:data_shape[0]]\n",
    "test_x.shape"
   ]
  },
  {
   "cell_type": "code",
   "execution_count": 11,
   "id": "d05172db",
   "metadata": {},
   "outputs": [
    {
     "data": {
      "text/plain": [
       "(1077, 10)"
      ]
     },
     "execution_count": 11,
     "metadata": {},
     "output_type": "execute_result"
    }
   ],
   "source": [
    "train_x = S_3_train.iloc[:,1:data_shape[0]]\n",
    "train_x.shape"
   ]
  },
  {
   "cell_type": "code",
   "execution_count": 12,
   "id": "7b210814",
   "metadata": {},
   "outputs": [],
   "source": [
    "test_y=S_3_test['si1m']\n",
    "train_y=S_3_train['si1m']"
   ]
  },
  {
   "cell_type": "code",
   "execution_count": 13,
   "id": "bf3592bc",
   "metadata": {},
   "outputs": [
    {
     "data": {
      "text/plain": [
       "0       1\n",
       "1       1\n",
       "2       1\n",
       "3       1\n",
       "4       1\n",
       "       ..\n",
       "3232    0\n",
       "3233    0\n",
       "3234    0\n",
       "3235    0\n",
       "3236    0\n",
       "Name: si1m, Length: 3237, dtype: int64"
      ]
     },
     "execution_count": 13,
     "metadata": {},
     "output_type": "execute_result"
    }
   ],
   "source": [
    "test_y"
   ]
  },
  {
   "cell_type": "code",
   "execution_count": 14,
   "id": "6d283d95",
   "metadata": {},
   "outputs": [
    {
     "name": "stdout",
     "output_type": "stream",
     "text": [
      "(1077,)\n",
      "(1077, 10)\n",
      "(3237,)\n",
      "(3237, 10)\n",
      "183\n"
     ]
    }
   ],
   "source": [
    "\n",
    "print(train_y.shape)\n",
    "print(train_x.shape)\n",
    "print(test_y.shape)\n",
    "print(test_x.shape)\n",
    "print(sum(test_y))"
   ]
  },
  {
   "cell_type": "code",
   "execution_count": 15,
   "id": "ac895c07",
   "metadata": {},
   "outputs": [],
   "source": [
    "def auroc(y_true, y_pred):\n",
    "    return tf.py_function(roc_auc_score, (y_true, y_pred), tf.double)"
   ]
  },
  {
   "cell_type": "code",
   "execution_count": 17,
   "id": "f037de84",
   "metadata": {},
   "outputs": [],
   "source": [
    "from utils.model import best_model\n"
   ]
  },
  {
   "cell_type": "code",
   "execution_count": 21,
   "id": "b3461240",
   "metadata": {
    "scrolled": false
   },
   "outputs": [
    {
     "name": "stdout",
     "output_type": "stream",
     "text": [
      "Epoch 1/300\n",
      "10/10 [==============================] - 0s 14ms/step - loss: 0.5250 - accuracy: 0.8906 - val_loss: 0.1037 - val_accuracy: 1.0000\n",
      "Epoch 2/300\n",
      "10/10 [==============================] - 0s 2ms/step - loss: 0.3683 - accuracy: 0.9381 - val_loss: 0.2951 - val_accuracy: 1.0000\n",
      "Epoch 3/300\n",
      "10/10 [==============================] - 0s 2ms/step - loss: 0.3118 - accuracy: 0.9381 - val_loss: 0.1952 - val_accuracy: 1.0000\n",
      "Epoch 4/300\n",
      "10/10 [==============================] - 0s 2ms/step - loss: 0.2804 - accuracy: 0.9381 - val_loss: 0.1159 - val_accuracy: 1.0000\n",
      "Epoch 5/300\n",
      "10/10 [==============================] - 0s 2ms/step - loss: 0.2722 - accuracy: 0.9381 - val_loss: 0.0995 - val_accuracy: 1.0000\n",
      "Epoch 6/300\n",
      "10/10 [==============================] - 0s 2ms/step - loss: 0.2476 - accuracy: 0.9381 - val_loss: 0.0953 - val_accuracy: 1.0000\n",
      "Epoch 7/300\n",
      "10/10 [==============================] - 0s 2ms/step - loss: 0.2444 - accuracy: 0.9381 - val_loss: 0.0959 - val_accuracy: 1.0000\n",
      "Epoch 8/300\n",
      "10/10 [==============================] - 0s 2ms/step - loss: 0.2441 - accuracy: 0.9381 - val_loss: 0.0981 - val_accuracy: 1.0000\n",
      "Epoch 9/300\n",
      "10/10 [==============================] - 0s 2ms/step - loss: 0.2349 - accuracy: 0.9381 - val_loss: 0.0941 - val_accuracy: 1.0000\n",
      "Epoch 10/300\n",
      "10/10 [==============================] - 0s 2ms/step - loss: 0.2412 - accuracy: 0.9381 - val_loss: 0.0938 - val_accuracy: 1.0000\n",
      "Epoch 11/300\n",
      "10/10 [==============================] - 0s 3ms/step - loss: 0.2403 - accuracy: 0.9381 - val_loss: 0.0921 - val_accuracy: 1.0000\n",
      "Epoch 12/300\n",
      "10/10 [==============================] - 0s 2ms/step - loss: 0.2363 - accuracy: 0.9381 - val_loss: 0.0962 - val_accuracy: 1.0000\n",
      "Epoch 13/300\n",
      "10/10 [==============================] - 0s 2ms/step - loss: 0.2359 - accuracy: 0.9381 - val_loss: 0.0945 - val_accuracy: 1.0000\n",
      "Epoch 14/300\n",
      "10/10 [==============================] - 0s 2ms/step - loss: 0.2364 - accuracy: 0.9381 - val_loss: 0.0905 - val_accuracy: 1.0000\n",
      "Epoch 15/300\n",
      "10/10 [==============================] - 0s 2ms/step - loss: 0.2328 - accuracy: 0.9381 - val_loss: 0.0890 - val_accuracy: 1.0000\n",
      "Epoch 16/300\n",
      "10/10 [==============================] - 0s 2ms/step - loss: 0.2339 - accuracy: 0.9381 - val_loss: 0.0852 - val_accuracy: 1.0000\n",
      "Epoch 17/300\n",
      "10/10 [==============================] - 0s 2ms/step - loss: 0.2314 - accuracy: 0.9381 - val_loss: 0.0854 - val_accuracy: 1.0000\n",
      "Epoch 18/300\n",
      "10/10 [==============================] - 0s 2ms/step - loss: 0.2303 - accuracy: 0.9381 - val_loss: 0.0846 - val_accuracy: 1.0000\n",
      "Epoch 19/300\n",
      "10/10 [==============================] - 0s 2ms/step - loss: 0.2324 - accuracy: 0.9381 - val_loss: 0.0827 - val_accuracy: 1.0000\n",
      "Epoch 20/300\n",
      "10/10 [==============================] - 0s 2ms/step - loss: 0.2321 - accuracy: 0.9381 - val_loss: 0.0809 - val_accuracy: 1.0000\n",
      "Epoch 21/300\n",
      "10/10 [==============================] - 0s 3ms/step - loss: 0.2316 - accuracy: 0.9381 - val_loss: 0.0798 - val_accuracy: 1.0000\n",
      "Epoch 22/300\n",
      "10/10 [==============================] - 0s 2ms/step - loss: 0.2302 - accuracy: 0.9381 - val_loss: 0.0771 - val_accuracy: 1.0000\n",
      "Epoch 23/300\n",
      "10/10 [==============================] - 0s 2ms/step - loss: 0.2327 - accuracy: 0.9381 - val_loss: 0.0752 - val_accuracy: 1.0000\n",
      "Epoch 24/300\n",
      "10/10 [==============================] - 0s 2ms/step - loss: 0.2297 - accuracy: 0.9381 - val_loss: 0.0755 - val_accuracy: 1.0000\n",
      "Epoch 25/300\n",
      "10/10 [==============================] - 0s 2ms/step - loss: 0.2294 - accuracy: 0.9381 - val_loss: 0.0738 - val_accuracy: 1.0000\n",
      "Epoch 26/300\n",
      "10/10 [==============================] - 0s 2ms/step - loss: 0.2306 - accuracy: 0.9381 - val_loss: 0.0731 - val_accuracy: 1.0000\n",
      "Epoch 27/300\n",
      "10/10 [==============================] - 0s 2ms/step - loss: 0.2285 - accuracy: 0.9381 - val_loss: 0.0721 - val_accuracy: 1.0000\n",
      "Epoch 28/300\n",
      "10/10 [==============================] - 0s 2ms/step - loss: 0.2282 - accuracy: 0.9381 - val_loss: 0.0701 - val_accuracy: 1.0000\n",
      "Epoch 29/300\n",
      "10/10 [==============================] - 0s 2ms/step - loss: 0.2328 - accuracy: 0.9381 - val_loss: 0.0685 - val_accuracy: 1.0000\n",
      "Epoch 30/300\n",
      "10/10 [==============================] - ETA: 0s - loss: 0.2523 - accuracy: 0.93 - 0s 3ms/step - loss: 0.2268 - accuracy: 0.9381 - val_loss: 0.0677 - val_accuracy: 1.0000\n",
      "Epoch 31/300\n",
      "10/10 [==============================] - 0s 2ms/step - loss: 0.2281 - accuracy: 0.9381 - val_loss: 0.0655 - val_accuracy: 1.0000\n",
      "Epoch 32/300\n",
      "10/10 [==============================] - 0s 2ms/step - loss: 0.2286 - accuracy: 0.9381 - val_loss: 0.0645 - val_accuracy: 1.0000\n",
      "Epoch 33/300\n",
      "10/10 [==============================] - 0s 2ms/step - loss: 0.2298 - accuracy: 0.9381 - val_loss: 0.0651 - val_accuracy: 1.0000\n",
      "Epoch 34/300\n",
      "10/10 [==============================] - 0s 2ms/step - loss: 0.2307 - accuracy: 0.9381 - val_loss: 0.0653 - val_accuracy: 1.0000\n",
      "Epoch 35/300\n",
      "10/10 [==============================] - 0s 2ms/step - loss: 0.2295 - accuracy: 0.9381 - val_loss: 0.0655 - val_accuracy: 1.0000\n",
      "Epoch 36/300\n",
      "10/10 [==============================] - 0s 2ms/step - loss: 0.2269 - accuracy: 0.9381 - val_loss: 0.0652 - val_accuracy: 1.0000\n",
      "Epoch 37/300\n",
      "10/10 [==============================] - 0s 2ms/step - loss: 0.2285 - accuracy: 0.9381 - val_loss: 0.0649 - val_accuracy: 1.0000\n",
      "Epoch 38/300\n",
      "10/10 [==============================] - 0s 2ms/step - loss: 0.2283 - accuracy: 0.9381 - val_loss: 0.0644 - val_accuracy: 1.0000\n",
      "Epoch 39/300\n",
      "10/10 [==============================] - 0s 2ms/step - loss: 0.2286 - accuracy: 0.9381 - val_loss: 0.0639 - val_accuracy: 1.0000\n",
      "Epoch 40/300\n",
      "10/10 [==============================] - 0s 3ms/step - loss: 0.2272 - accuracy: 0.9381 - val_loss: 0.0630 - val_accuracy: 1.0000\n",
      "Epoch 41/300\n",
      "10/10 [==============================] - 0s 2ms/step - loss: 0.2304 - accuracy: 0.9381 - val_loss: 0.0629 - val_accuracy: 1.0000\n",
      "Epoch 42/300\n",
      "10/10 [==============================] - 0s 2ms/step - loss: 0.2276 - accuracy: 0.9381 - val_loss: 0.0621 - val_accuracy: 1.0000\n",
      "Epoch 43/300\n",
      "10/10 [==============================] - 0s 2ms/step - loss: 0.2287 - accuracy: 0.9381 - val_loss: 0.0622 - val_accuracy: 1.0000\n",
      "Epoch 44/300\n",
      "10/10 [==============================] - 0s 2ms/step - loss: 0.2299 - accuracy: 0.9381 - val_loss: 0.0629 - val_accuracy: 1.0000\n",
      "Epoch 45/300\n",
      "10/10 [==============================] - 0s 2ms/step - loss: 0.2273 - accuracy: 0.9381 - val_loss: 0.0625 - val_accuracy: 1.0000\n",
      "Epoch 46/300\n",
      "10/10 [==============================] - 0s 2ms/step - loss: 0.2286 - accuracy: 0.9381 - val_loss: 0.0614 - val_accuracy: 1.0000\n",
      "Epoch 47/300\n",
      "10/10 [==============================] - 0s 2ms/step - loss: 0.2288 - accuracy: 0.9381 - val_loss: 0.0611 - val_accuracy: 1.0000\n",
      "Epoch 48/300\n",
      "10/10 [==============================] - 0s 2ms/step - loss: 0.2290 - accuracy: 0.9381 - val_loss: 0.0615 - val_accuracy: 1.0000\n",
      "Epoch 49/300\n",
      "10/10 [==============================] - 0s 3ms/step - loss: 0.2282 - accuracy: 0.9381 - val_loss: 0.0620 - val_accuracy: 1.0000\n",
      "Epoch 50/300\n",
      "10/10 [==============================] - 0s 2ms/step - loss: 0.2295 - accuracy: 0.9381 - val_loss: 0.0609 - val_accuracy: 1.0000\n",
      "Epoch 51/300\n",
      "10/10 [==============================] - 0s 2ms/step - loss: 0.2289 - accuracy: 0.9381 - val_loss: 0.0599 - val_accuracy: 1.0000\n",
      "Epoch 52/300\n",
      "10/10 [==============================] - 0s 2ms/step - loss: 0.2303 - accuracy: 0.9381 - val_loss: 0.0593 - val_accuracy: 1.0000\n",
      "Epoch 53/300\n",
      "10/10 [==============================] - 0s 2ms/step - loss: 0.2283 - accuracy: 0.9381 - val_loss: 0.0596 - val_accuracy: 1.0000\n",
      "Epoch 54/300\n",
      "10/10 [==============================] - 0s 2ms/step - loss: 0.2283 - accuracy: 0.9381 - val_loss: 0.0596 - val_accuracy: 1.0000\n",
      "Epoch 55/300\n",
      "10/10 [==============================] - 0s 2ms/step - loss: 0.2289 - accuracy: 0.9381 - val_loss: 0.0593 - val_accuracy: 1.0000\n",
      "Epoch 56/300\n",
      "10/10 [==============================] - 0s 2ms/step - loss: 0.2289 - accuracy: 0.9381 - val_loss: 0.0605 - val_accuracy: 1.0000\n",
      "Epoch 57/300\n",
      "10/10 [==============================] - 0s 2ms/step - loss: 0.2298 - accuracy: 0.9381 - val_loss: 0.0615 - val_accuracy: 1.0000\n",
      "Epoch 58/300\n",
      "10/10 [==============================] - 0s 2ms/step - loss: 0.2294 - accuracy: 0.9381 - val_loss: 0.0605 - val_accuracy: 1.0000\n",
      "Epoch 59/300\n",
      "10/10 [==============================] - 0s 3ms/step - loss: 0.2289 - accuracy: 0.9381 - val_loss: 0.0592 - val_accuracy: 1.0000\n",
      "Epoch 60/300\n",
      "10/10 [==============================] - 0s 2ms/step - loss: 0.2310 - accuracy: 0.9381 - val_loss: 0.0580 - val_accuracy: 1.0000\n",
      "Epoch 61/300\n",
      "10/10 [==============================] - 0s 2ms/step - loss: 0.2297 - accuracy: 0.9381 - val_loss: 0.0580 - val_accuracy: 1.0000\n",
      "Epoch 62/300\n",
      "10/10 [==============================] - 0s 2ms/step - loss: 0.2273 - accuracy: 0.9381 - val_loss: 0.0579 - val_accuracy: 1.0000\n",
      "Epoch 63/300\n",
      "10/10 [==============================] - 0s 2ms/step - loss: 0.2282 - accuracy: 0.9381 - val_loss: 0.0569 - val_accuracy: 1.0000\n",
      "Epoch 64/300\n",
      "10/10 [==============================] - 0s 2ms/step - loss: 0.2267 - accuracy: 0.9381 - val_loss: 0.0566 - val_accuracy: 1.0000\n",
      "Epoch 65/300\n",
      "10/10 [==============================] - 0s 2ms/step - loss: 0.2287 - accuracy: 0.9381 - val_loss: 0.0562 - val_accuracy: 1.0000\n",
      "Epoch 66/300\n",
      "10/10 [==============================] - 0s 2ms/step - loss: 0.2282 - accuracy: 0.9381 - val_loss: 0.0569 - val_accuracy: 1.0000\n",
      "Epoch 67/300\n",
      "10/10 [==============================] - 0s 2ms/step - loss: 0.2271 - accuracy: 0.9381 - val_loss: 0.0558 - val_accuracy: 1.0000\n",
      "Epoch 68/300\n",
      "10/10 [==============================] - 0s 3ms/step - loss: 0.2295 - accuracy: 0.9381 - val_loss: 0.0555 - val_accuracy: 1.0000\n",
      "Epoch 69/300\n",
      "10/10 [==============================] - 0s 2ms/step - loss: 0.2256 - accuracy: 0.9381 - val_loss: 0.0552 - val_accuracy: 1.0000\n",
      "Epoch 70/300\n",
      "10/10 [==============================] - 0s 2ms/step - loss: 0.2292 - accuracy: 0.9381 - val_loss: 0.0557 - val_accuracy: 1.0000\n",
      "Epoch 71/300\n",
      "10/10 [==============================] - 0s 2ms/step - loss: 0.2285 - accuracy: 0.9381 - val_loss: 0.0556 - val_accuracy: 1.0000\n",
      "Epoch 72/300\n",
      "10/10 [==============================] - 0s 2ms/step - loss: 0.2275 - accuracy: 0.9381 - val_loss: 0.0551 - val_accuracy: 1.0000\n",
      "Epoch 73/300\n",
      "10/10 [==============================] - 0s 2ms/step - loss: 0.2280 - accuracy: 0.9381 - val_loss: 0.0550 - val_accuracy: 1.0000\n",
      "Epoch 74/300\n",
      "10/10 [==============================] - 0s 2ms/step - loss: 0.2289 - accuracy: 0.9381 - val_loss: 0.0548 - val_accuracy: 1.0000\n",
      "Epoch 75/300\n",
      "10/10 [==============================] - 0s 2ms/step - loss: 0.2266 - accuracy: 0.9381 - val_loss: 0.0552 - val_accuracy: 1.0000\n",
      "Epoch 76/300\n",
      "10/10 [==============================] - 0s 2ms/step - loss: 0.2278 - accuracy: 0.9381 - val_loss: 0.0551 - val_accuracy: 1.0000\n",
      "Epoch 77/300\n",
      "10/10 [==============================] - 0s 2ms/step - loss: 0.2293 - accuracy: 0.9381 - val_loss: 0.0549 - val_accuracy: 1.0000\n",
      "Epoch 78/300\n",
      "10/10 [==============================] - 0s 3ms/step - loss: 0.2272 - accuracy: 0.9381 - val_loss: 0.0547 - val_accuracy: 1.0000\n",
      "Epoch 79/300\n",
      "10/10 [==============================] - 0s 2ms/step - loss: 0.2293 - accuracy: 0.9381 - val_loss: 0.0548 - val_accuracy: 1.0000\n",
      "Epoch 80/300\n",
      "10/10 [==============================] - 0s 2ms/step - loss: 0.2290 - accuracy: 0.9381 - val_loss: 0.0550 - val_accuracy: 1.0000\n",
      "Epoch 81/300\n",
      "10/10 [==============================] - 0s 2ms/step - loss: 0.2290 - accuracy: 0.9381 - val_loss: 0.0544 - val_accuracy: 1.0000\n",
      "Epoch 82/300\n",
      "10/10 [==============================] - 0s 2ms/step - loss: 0.2281 - accuracy: 0.9381 - val_loss: 0.0543 - val_accuracy: 1.0000\n",
      "Epoch 83/300\n",
      "10/10 [==============================] - 0s 2ms/step - loss: 0.2280 - accuracy: 0.9381 - val_loss: 0.0543 - val_accuracy: 1.0000\n",
      "Epoch 84/300\n",
      "10/10 [==============================] - 0s 2ms/step - loss: 0.2274 - accuracy: 0.9381 - val_loss: 0.0544 - val_accuracy: 1.0000\n",
      "Epoch 85/300\n",
      "10/10 [==============================] - 0s 2ms/step - loss: 0.2263 - accuracy: 0.9381 - val_loss: 0.0540 - val_accuracy: 1.0000\n",
      "Epoch 86/300\n",
      "10/10 [==============================] - 0s 2ms/step - loss: 0.2308 - accuracy: 0.9381 - val_loss: 0.0533 - val_accuracy: 1.0000\n",
      "Epoch 87/300\n",
      "10/10 [==============================] - 0s 3ms/step - loss: 0.2290 - accuracy: 0.9381 - val_loss: 0.0534 - val_accuracy: 1.0000\n",
      "Epoch 88/300\n",
      "10/10 [==============================] - 0s 2ms/step - loss: 0.2284 - accuracy: 0.9381 - val_loss: 0.0526 - val_accuracy: 1.0000\n",
      "Epoch 89/300\n",
      "10/10 [==============================] - 0s 2ms/step - loss: 0.2297 - accuracy: 0.9381 - val_loss: 0.0515 - val_accuracy: 1.0000\n",
      "Epoch 90/300\n",
      "10/10 [==============================] - 0s 2ms/step - loss: 0.2290 - accuracy: 0.9381 - val_loss: 0.0514 - val_accuracy: 1.0000\n",
      "Epoch 91/300\n",
      "10/10 [==============================] - 0s 2ms/step - loss: 0.2288 - accuracy: 0.9381 - val_loss: 0.0501 - val_accuracy: 1.0000\n",
      "Epoch 92/300\n",
      "10/10 [==============================] - 0s 2ms/step - loss: 0.2287 - accuracy: 0.9381 - val_loss: 0.0497 - val_accuracy: 1.0000\n",
      "Epoch 93/300\n",
      "10/10 [==============================] - 0s 2ms/step - loss: 0.2276 - accuracy: 0.9381 - val_loss: 0.0499 - val_accuracy: 1.0000\n",
      "Epoch 94/300\n",
      "10/10 [==============================] - 0s 2ms/step - loss: 0.2313 - accuracy: 0.9381 - val_loss: 0.0505 - val_accuracy: 1.0000\n",
      "Epoch 95/300\n",
      "10/10 [==============================] - 0s 2ms/step - loss: 0.2270 - accuracy: 0.9381 - val_loss: 0.0514 - val_accuracy: 1.0000\n",
      "Epoch 96/300\n",
      "10/10 [==============================] - 0s 2ms/step - loss: 0.2281 - accuracy: 0.9381 - val_loss: 0.0500 - val_accuracy: 1.0000\n",
      "Epoch 97/300\n",
      "10/10 [==============================] - 0s 3ms/step - loss: 0.2292 - accuracy: 0.9381 - val_loss: 0.0502 - val_accuracy: 1.0000\n",
      "Epoch 98/300\n",
      "10/10 [==============================] - 0s 2ms/step - loss: 0.2282 - accuracy: 0.9381 - val_loss: 0.0511 - val_accuracy: 1.0000\n",
      "Epoch 99/300\n",
      "10/10 [==============================] - 0s 2ms/step - loss: 0.2269 - accuracy: 0.9381 - val_loss: 0.0511 - val_accuracy: 1.0000\n",
      "Epoch 100/300\n",
      "10/10 [==============================] - 0s 2ms/step - loss: 0.2296 - accuracy: 0.9381 - val_loss: 0.0518 - val_accuracy: 1.0000\n",
      "Epoch 101/300\n",
      "10/10 [==============================] - 0s 2ms/step - loss: 0.2306 - accuracy: 0.9381 - val_loss: 0.0504 - val_accuracy: 1.0000\n",
      "Epoch 102/300\n",
      "10/10 [==============================] - 0s 2ms/step - loss: 0.2280 - accuracy: 0.9381 - val_loss: 0.0461 - val_accuracy: 1.0000\n",
      "Epoch 103/300\n",
      "10/10 [==============================] - 0s 2ms/step - loss: 0.2277 - accuracy: 0.9381 - val_loss: 0.0453 - val_accuracy: 1.0000\n",
      "Epoch 104/300\n",
      "10/10 [==============================] - 0s 2ms/step - loss: 0.2276 - accuracy: 0.9381 - val_loss: 0.0455 - val_accuracy: 1.0000\n",
      "Epoch 105/300\n",
      "10/10 [==============================] - 0s 2ms/step - loss: 0.2305 - accuracy: 0.9381 - val_loss: 0.0463 - val_accuracy: 1.0000\n",
      "Epoch 106/300\n",
      "10/10 [==============================] - 0s 3ms/step - loss: 0.2285 - accuracy: 0.9381 - val_loss: 0.0472 - val_accuracy: 1.0000\n",
      "Epoch 107/300\n",
      "10/10 [==============================] - 0s 2ms/step - loss: 0.2275 - accuracy: 0.9381 - val_loss: 0.0448 - val_accuracy: 1.0000\n",
      "Epoch 108/300\n",
      "10/10 [==============================] - 0s 2ms/step - loss: 0.2281 - accuracy: 0.9381 - val_loss: 0.0430 - val_accuracy: 1.0000\n",
      "Epoch 109/300\n",
      "10/10 [==============================] - 0s 2ms/step - loss: 0.2288 - accuracy: 0.9381 - val_loss: 0.0422 - val_accuracy: 1.0000\n",
      "Epoch 110/300\n",
      "10/10 [==============================] - 0s 2ms/step - loss: 0.2284 - accuracy: 0.9381 - val_loss: 0.0396 - val_accuracy: 1.0000\n",
      "Epoch 111/300\n",
      "10/10 [==============================] - 0s 2ms/step - loss: 0.2281 - accuracy: 0.9381 - val_loss: 0.0381 - val_accuracy: 1.0000\n",
      "Epoch 112/300\n",
      "10/10 [==============================] - 0s 2ms/step - loss: 0.2288 - accuracy: 0.9381 - val_loss: 0.0385 - val_accuracy: 1.0000\n",
      "Epoch 113/300\n",
      "10/10 [==============================] - 0s 2ms/step - loss: 0.2286 - accuracy: 0.9381 - val_loss: 0.0400 - val_accuracy: 1.0000\n",
      "Epoch 114/300\n",
      "10/10 [==============================] - 0s 2ms/step - loss: 0.2285 - accuracy: 0.9381 - val_loss: 0.0422 - val_accuracy: 1.0000\n",
      "Epoch 115/300\n",
      "10/10 [==============================] - 0s 2ms/step - loss: 0.2280 - accuracy: 0.9381 - val_loss: 0.0423 - val_accuracy: 1.0000\n"
     ]
    },
    {
     "name": "stdout",
     "output_type": "stream",
     "text": [
      "Epoch 116/300\n",
      "10/10 [==============================] - 0s 3ms/step - loss: 0.2275 - accuracy: 0.9381 - val_loss: 0.0424 - val_accuracy: 1.0000\n",
      "Epoch 117/300\n",
      "10/10 [==============================] - 0s 2ms/step - loss: 0.2289 - accuracy: 0.9381 - val_loss: 0.0436 - val_accuracy: 1.0000\n",
      "Epoch 118/300\n",
      "10/10 [==============================] - 0s 2ms/step - loss: 0.2283 - accuracy: 0.9381 - val_loss: 0.0450 - val_accuracy: 1.0000\n",
      "Epoch 119/300\n",
      "10/10 [==============================] - 0s 2ms/step - loss: 0.2279 - accuracy: 0.9381 - val_loss: 0.0447 - val_accuracy: 1.0000\n",
      "Epoch 120/300\n",
      "10/10 [==============================] - 0s 2ms/step - loss: 0.2284 - accuracy: 0.9381 - val_loss: 0.0467 - val_accuracy: 1.0000\n",
      "Epoch 121/300\n",
      "10/10 [==============================] - 0s 2ms/step - loss: 0.2287 - accuracy: 0.9381 - val_loss: 0.0482 - val_accuracy: 1.0000\n",
      "Epoch 00121: early stopping\n",
      "<tensorflow.python.keras.callbacks.History object at 0x000001CE56DC4B38>\n"
     ]
    },
    {
     "data": {
      "image/png": "[encoded data removed]",
      "text/plain": [
       "<Figure size 1080x360 with 1 Axes>"
      ]
     },
     "metadata": {
      "needs_background": "light"
     },
     "output_type": "display_data"
    },
    {
     "data": {
      "image/png": "[encoded data removed]",
      "text/plain": [
       "<Figure size 1080x360 with 1 Axes>"
      ]
     },
     "metadata": {
      "needs_background": "light"
     },
     "output_type": "display_data"
    }
   ],
   "source": [
    "model_best = best_model(train_x, test_x, train_y, test_y,input_shape=10, \n",
    "                        batch=100,epoch=300,lr=0.1,decay=0.001,momentum=0.8,af='relu',\n",
    "                        units_L=1,dropout=0.8 ,units_num=5,warm_up=0)\n"
   ]
  },
  {
   "cell_type": "code",
   "execution_count": 22,
   "id": "3c39b3cc",
   "metadata": {},
   "outputs": [],
   "source": [
    "yhat_probs_train = model_best.predict(train_x, verbose=0)\n",
    "yhat_probs_test = model_best.predict(test_x, verbose=0)"
   ]
  },
  {
   "cell_type": "code",
   "execution_count": 23,
   "id": "91ae957b",
   "metadata": {},
   "outputs": [],
   "source": [
    "_,accuracy_tr = model_best.evaluate(train_x, train_y,verbose=0)\n",
    "_,accuracy_te = model_best.evaluate(test_x, test_y,verbose=0)"
   ]
  },
  {
   "cell_type": "code",
   "execution_count": 24,
   "id": "eb6f1522",
   "metadata": {},
   "outputs": [
    {
     "data": {
      "text/plain": [
       "0.9442896842956543"
      ]
     },
     "execution_count": 24,
     "metadata": {},
     "output_type": "execute_result"
    }
   ],
   "source": [
    "accuracy_tr"
   ]
  },
  {
   "cell_type": "code",
   "execution_count": 25,
   "id": "2da15dc7",
   "metadata": {},
   "outputs": [
    {
     "data": {
      "text/plain": [
       "0.9434661865234375"
      ]
     },
     "execution_count": 25,
     "metadata": {},
     "output_type": "execute_result"
    }
   ],
   "source": [
    "accuracy_te"
   ]
  },
  {
   "cell_type": "code",
   "execution_count": 26,
   "id": "bff54cce",
   "metadata": {},
   "outputs": [],
   "source": [
    "auc_tr=roc_auc_score(train_y, yhat_probs_train)\n",
    "auc_te=roc_auc_score(test_y, yhat_probs_test)\n"
   ]
  },
  {
   "cell_type": "code",
   "execution_count": 27,
   "id": "c315266d",
   "metadata": {},
   "outputs": [],
   "source": [
    "\n",
    "yhat_probs_test = model_best.predict(test_x, verbose=0)"
   ]
  },
  {
   "cell_type": "code",
   "execution_count": 28,
   "id": "233da21a",
   "metadata": {},
   "outputs": [
    {
     "data": {
      "text/plain": [
       "0.7997132087840052"
      ]
     },
     "execution_count": 28,
     "metadata": {},
     "output_type": "execute_result"
    }
   ],
   "source": [
    "auc_tr"
   ]
  },
  {
   "cell_type": "code",
   "execution_count": 29,
   "id": "db583b2f",
   "metadata": {},
   "outputs": [
    {
     "data": {
      "text/plain": [
       "0.8250417798390357"
      ]
     },
     "execution_count": 29,
     "metadata": {},
     "output_type": "execute_result"
    }
   ],
   "source": [
    "auc_te"
   ]
  },
  {
   "cell_type": "code",
   "execution_count": 31,
   "id": "071749fa",
   "metadata": {},
   "outputs": [],
   "source": [
    "r0=pd.DataFrame([accuracy_tr, accuracy_te,auc_tr,auc_te])\n",
    "\n"
   ]
  },
  {
   "cell_type": "code",
   "execution_count": 32,
   "id": "d458e994",
   "metadata": {},
   "outputs": [
    {
     "name": "stdout",
     "output_type": "stream",
     "text": [
      "(3237, 1)\n",
      "WARNING:tensorflow:From C:\\Users\\PEK\\utils\\visualize.py:37: Sequential.predict_classes (from tensorflow.python.keras.engine.sequential) is deprecated and will be removed after 2021-01-01.\n",
      "Instructions for updating:\n",
      "Please use instead:* `np.argmax(model.predict(x), axis=-1)`,   if your model does multi-class classification   (e.g. if it uses a `softmax` last-layer activation).* `(model.predict(x) > 0.5).astype(\"int32\")`,   if your model does binary classification   (e.g. if it uses a `sigmoid` last-layer activation).\n",
      "=== Accuracy ===\n",
      "Accuracy (train): 0.944290\n",
      "Accuracy (test): 0.943466\n",
      "\n",
      "\n",
      "=== Precision ===\n",
      "Precision (train): 0.000000\n",
      "Precision (test): 0.000000\n",
      "\n",
      "\n",
      "=== Recall ===\n",
      "Recall (train): 0.000000\n",
      "Recall (test): 0.000000\n",
      "\n",
      "\n",
      "=== F1 score ===\n",
      "F1 score (train): 0.000000\n",
      "F1 score (test): 0.000000\n",
      "\n",
      "\n",
      "=== Cohens Kappa ===\n",
      "Cohens kappa (train): 0.000000\n",
      "Cohens kappa (test): 0.000000\n",
      "\n",
      "\n",
      "=== ROC AUC ===\n",
      "ROC AUC for training dataset: 0.799713\n",
      "ROC AUC for testing dataset: 0.825042\n",
      "\n",
      "\n",
      "=== Confusion matrix for train datset ===\n",
      "[[1017    0]\n",
      " [  60    0]]\n",
      "\n",
      "\n",
      "=== Confusion matrix for test datset ===\n",
      "[[3054    0]\n",
      " [ 183    0]]\n"
     ]
    },
    {
     "name": "stderr",
     "output_type": "stream",
     "text": [
      "C:\\Users\\PEK\\AppData\\Roaming\\Python\\Python36\\site-packages\\sklearn\\metrics\\_classification.py:1221: UndefinedMetricWarning: Precision is ill-defined and being set to 0.0 due to no predicted samples. Use `zero_division` parameter to control this behavior.\n",
      "  _warn_prf(average, modifier, msg_start, len(result))\n"
     ]
    },
    {
     "data": {
      "image/png": "[encoded data removed]",
      "text/plain": [
       "<Figure size 432x288 with 1 Axes>"
      ]
     },
     "metadata": {
      "needs_background": "light"
     },
     "output_type": "display_data"
    }
   ],
   "source": [
    "from utils.visualize import visualize\n",
    "yhat_probs_train = model_best.predict(train_x, verbose=0)\n",
    "yhat_probs_test = model_best.predict(test_x, verbose=0)\n",
    "print(yhat_probs_test.shape)\n",
    "yhat_classes_train,yhat_classes_test=visualize(yhat_probs_train,yhat_probs_test,model_best,train_x,train_y,test_x,test_y)"
   ]
  },
  {
   "cell_type": "code",
   "execution_count": 34,
   "id": "3f9046d8",
   "metadata": {},
   "outputs": [],
   "source": [
    "df1 = r0.T"
   ]
  },
  {
   "cell_type": "code",
   "execution_count": 35,
   "id": "d78d552a",
   "metadata": {},
   "outputs": [],
   "source": [
    "df1.columns = ['Train accuracy', 'valid accuracy','Train AUC' ,'Valid AUC' ]"
   ]
  },
  {
   "cell_type": "code",
   "execution_count": 36,
   "id": "12beb560",
   "metadata": {},
   "outputs": [
    {
     "data": {
      "text/html": [
       "<div>\n",
       "<style scoped>\n",
       "    .dataframe tbody tr th:only-of-type {\n",
       "        vertical-align: middle;\n",
       "    }\n",
       "\n",
       "    .dataframe tbody tr th {\n",
       "        vertical-align: top;\n",
       "    }\n",
       "\n",
       "    .dataframe thead th {\n",
       "        text-align: right;\n",
       "    }\n",
       "</style>\n",
       "<table border=\"1\" class=\"dataframe\">\n",
       "  <thead>\n",
       "    <tr style=\"text-align: right;\">\n",
       "      <th></th>\n",
       "      <th>Train accuracy</th>\n",
       "      <th>valid accuracy</th>\n",
       "      <th>Train AUC</th>\n",
       "      <th>Valid AUC</th>\n",
       "    </tr>\n",
       "  </thead>\n",
       "  <tbody>\n",
       "    <tr>\n",
       "      <th>0</th>\n",
       "      <td>0.94429</td>\n",
       "      <td>0.943466</td>\n",
       "      <td>0.799713</td>\n",
       "      <td>0.825042</td>\n",
       "    </tr>\n",
       "  </tbody>\n",
       "</table>\n",
       "</div>"
      ],
      "text/plain": [
       "   Train accuracy  valid accuracy  Test accuracy  Train AUC  Valid AUC  \\\n",
       "0         0.94429        0.943466        0.87867   0.799713   0.825042   \n",
       "\n",
       "   Test AUC  \n",
       "0  0.739793  "
      ]
     },
     "execution_count": 36,
     "metadata": {},
     "output_type": "execute_result"
    }
   ],
   "source": [
    "df1"
   ]
  },
  {
   "cell_type": "code",
   "execution_count": 38,
   "id": "11848294",
   "metadata": {},
   "outputs": [],
   "source": [
    "import numpy as np"
   ]
  },
  {
   "cell_type": "code",
   "execution_count": 39,
   "id": "d4c63676",
   "metadata": {},
   "outputs": [
    {
     "data": {
      "text/plain": [
       "array([0, 0, 0, ..., 0, 0, 0], dtype=int64)"
      ]
     },
     "execution_count": 39,
     "metadata": {},
     "output_type": "execute_result"
    }
   ],
   "source": [
    "predict_train=model_best.predict(train_x) \n",
    "classes_train_pred=np.argmax(predict_train,axis=1)\n",
    "classes_train_pred"
   ]
  },
  {
   "cell_type": "code",
   "execution_count": 40,
   "id": "52285dae",
   "metadata": {},
   "outputs": [
    {
     "data": {
      "text/plain": [
       "array([0, 0, 0, ..., 0, 0, 0], dtype=int64)"
      ]
     },
     "execution_count": 40,
     "metadata": {},
     "output_type": "execute_result"
    }
   ],
   "source": [
    "predict_test=model_best.predict(test_x) \n",
    "classes_test_pred=np.argmax(predict_test,axis=1)\n",
    "classes_test_pred"
   ]
  },
  {
   "cell_type": "code",
   "execution_count": 41,
   "id": "42f64972",
   "metadata": {},
   "outputs": [],
   "source": [
    "train_y = pd.DataFrame(train_y)\n",
    "classes_train_pred = pd.DataFrame(classes_train_pred)\n",
    "yhat_probs_train = pd.DataFrame(yhat_probs_train)"
   ]
  },
  {
   "cell_type": "code",
   "execution_count": 42,
   "id": "273d7153",
   "metadata": {},
   "outputs": [
    {
     "data": {
      "text/html": [
       "<div>\n",
       "<style scoped>\n",
       "    .dataframe tbody tr th:only-of-type {\n",
       "        vertical-align: middle;\n",
       "    }\n",
       "\n",
       "    .dataframe tbody tr th {\n",
       "        vertical-align: top;\n",
       "    }\n",
       "\n",
       "    .dataframe thead th {\n",
       "        text-align: right;\n",
       "    }\n",
       "</style>\n",
       "<table border=\"1\" class=\"dataframe\">\n",
       "  <thead>\n",
       "    <tr style=\"text-align: right;\">\n",
       "      <th></th>\n",
       "      <th>si1m</th>\n",
       "      <th>0</th>\n",
       "      <th>0</th>\n",
       "    </tr>\n",
       "  </thead>\n",
       "  <tbody>\n",
       "    <tr>\n",
       "      <th>0</th>\n",
       "      <td>1</td>\n",
       "      <td>0</td>\n",
       "      <td>0.066216</td>\n",
       "    </tr>\n",
       "    <tr>\n",
       "      <th>1</th>\n",
       "      <td>1</td>\n",
       "      <td>0</td>\n",
       "      <td>0.047315</td>\n",
       "    </tr>\n",
       "    <tr>\n",
       "      <th>2</th>\n",
       "      <td>1</td>\n",
       "      <td>0</td>\n",
       "      <td>0.066222</td>\n",
       "    </tr>\n",
       "    <tr>\n",
       "      <th>3</th>\n",
       "      <td>1</td>\n",
       "      <td>0</td>\n",
       "      <td>0.066210</td>\n",
       "    </tr>\n",
       "    <tr>\n",
       "      <th>4</th>\n",
       "      <td>1</td>\n",
       "      <td>0</td>\n",
       "      <td>0.066228</td>\n",
       "    </tr>\n",
       "    <tr>\n",
       "      <th>...</th>\n",
       "      <td>...</td>\n",
       "      <td>...</td>\n",
       "      <td>...</td>\n",
       "    </tr>\n",
       "    <tr>\n",
       "      <th>1072</th>\n",
       "      <td>0</td>\n",
       "      <td>0</td>\n",
       "      <td>0.066188</td>\n",
       "    </tr>\n",
       "    <tr>\n",
       "      <th>1073</th>\n",
       "      <td>0</td>\n",
       "      <td>0</td>\n",
       "      <td>0.066207</td>\n",
       "    </tr>\n",
       "    <tr>\n",
       "      <th>1074</th>\n",
       "      <td>0</td>\n",
       "      <td>0</td>\n",
       "      <td>0.054820</td>\n",
       "    </tr>\n",
       "    <tr>\n",
       "      <th>1075</th>\n",
       "      <td>0</td>\n",
       "      <td>0</td>\n",
       "      <td>0.013856</td>\n",
       "    </tr>\n",
       "    <tr>\n",
       "      <th>1076</th>\n",
       "      <td>0</td>\n",
       "      <td>0</td>\n",
       "      <td>0.066226</td>\n",
       "    </tr>\n",
       "  </tbody>\n",
       "</table>\n",
       "<p>1077 rows × 3 columns</p>\n",
       "</div>"
      ],
      "text/plain": [
       "      si1m  0         0\n",
       "0        1  0  0.066216\n",
       "1        1  0  0.047315\n",
       "2        1  0  0.066222\n",
       "3        1  0  0.066210\n",
       "4        1  0  0.066228\n",
       "...    ... ..       ...\n",
       "1072     0  0  0.066188\n",
       "1073     0  0  0.066207\n",
       "1074     0  0  0.054820\n",
       "1075     0  0  0.013856\n",
       "1076     0  0  0.066226\n",
       "\n",
       "[1077 rows x 3 columns]"
      ]
     },
     "execution_count": 42,
     "metadata": {},
     "output_type": "execute_result"
    }
   ],
   "source": [
    "train_result= pd.concat([train_y, classes_train_pred,yhat_probs_train], axis=1)\n",
    "train_result"
   ]
  },
  {
   "cell_type": "code",
   "execution_count": 43,
   "id": "3d0a9494",
   "metadata": {},
   "outputs": [],
   "source": [
    "train_result.columns =  ['sofa3m', 'class_pred', 'prob_pred']"
   ]
  },
  {
   "cell_type": "code",
   "execution_count": 44,
   "id": "bea0c02c",
   "metadata": {},
   "outputs": [],
   "source": [
    "train_result.to_csv('dnn for si over 1 in cgmh train result ver1 20230223.csv')"
   ]
  },
  {
   "cell_type": "code",
   "execution_count": 45,
   "id": "3b71616f",
   "metadata": {},
   "outputs": [],
   "source": [
    "test_y = pd.DataFrame(test_y)\n",
    "classes_test_pred = pd.DataFrame(classes_test_pred)\n",
    "yhat_probs_test = pd.DataFrame(yhat_probs_test)"
   ]
  },
  {
   "cell_type": "code",
   "execution_count": 46,
   "id": "3e566852",
   "metadata": {},
   "outputs": [
    {
     "data": {
      "text/html": [
       "<div>\n",
       "<style scoped>\n",
       "    .dataframe tbody tr th:only-of-type {\n",
       "        vertical-align: middle;\n",
       "    }\n",
       "\n",
       "    .dataframe tbody tr th {\n",
       "        vertical-align: top;\n",
       "    }\n",
       "\n",
       "    .dataframe thead th {\n",
       "        text-align: right;\n",
       "    }\n",
       "</style>\n",
       "<table border=\"1\" class=\"dataframe\">\n",
       "  <thead>\n",
       "    <tr style=\"text-align: right;\">\n",
       "      <th></th>\n",
       "      <th>0</th>\n",
       "      <th>0</th>\n",
       "      <th>0</th>\n",
       "    </tr>\n",
       "  </thead>\n",
       "  <tbody>\n",
       "    <tr>\n",
       "      <th>0</th>\n",
       "      <td>0</td>\n",
       "      <td>0</td>\n",
       "      <td>0.066195</td>\n",
       "    </tr>\n",
       "    <tr>\n",
       "      <th>1</th>\n",
       "      <td>0</td>\n",
       "      <td>0</td>\n",
       "      <td>0.066188</td>\n",
       "    </tr>\n",
       "    <tr>\n",
       "      <th>2</th>\n",
       "      <td>0</td>\n",
       "      <td>0</td>\n",
       "      <td>0.066184</td>\n",
       "    </tr>\n",
       "    <tr>\n",
       "      <th>3</th>\n",
       "      <td>0</td>\n",
       "      <td>0</td>\n",
       "      <td>0.066189</td>\n",
       "    </tr>\n",
       "    <tr>\n",
       "      <th>4</th>\n",
       "      <td>0</td>\n",
       "      <td>0</td>\n",
       "      <td>0.066203</td>\n",
       "    </tr>\n",
       "    <tr>\n",
       "      <th>...</th>\n",
       "      <td>...</td>\n",
       "      <td>...</td>\n",
       "      <td>...</td>\n",
       "    </tr>\n",
       "    <tr>\n",
       "      <th>3232</th>\n",
       "      <td>0</td>\n",
       "      <td>0</td>\n",
       "      <td>0.066209</td>\n",
       "    </tr>\n",
       "    <tr>\n",
       "      <th>3233</th>\n",
       "      <td>0</td>\n",
       "      <td>0</td>\n",
       "      <td>0.066212</td>\n",
       "    </tr>\n",
       "    <tr>\n",
       "      <th>3234</th>\n",
       "      <td>0</td>\n",
       "      <td>0</td>\n",
       "      <td>0.066212</td>\n",
       "    </tr>\n",
       "    <tr>\n",
       "      <th>3235</th>\n",
       "      <td>0</td>\n",
       "      <td>0</td>\n",
       "      <td>0.066195</td>\n",
       "    </tr>\n",
       "    <tr>\n",
       "      <th>3236</th>\n",
       "      <td>0</td>\n",
       "      <td>0</td>\n",
       "      <td>0.066210</td>\n",
       "    </tr>\n",
       "  </tbody>\n",
       "</table>\n",
       "<p>3237 rows × 3 columns</p>\n",
       "</div>"
      ],
      "text/plain": [
       "      0  0         0\n",
       "0     0  0  0.066195\n",
       "1     0  0  0.066188\n",
       "2     0  0  0.066184\n",
       "3     0  0  0.066189\n",
       "4     0  0  0.066203\n",
       "...  .. ..       ...\n",
       "3232  0  0  0.066209\n",
       "3233  0  0  0.066212\n",
       "3234  0  0  0.066212\n",
       "3235  0  0  0.066195\n",
       "3236  0  0  0.066210\n",
       "\n",
       "[3237 rows x 3 columns]"
      ]
     },
     "execution_count": 46,
     "metadata": {},
     "output_type": "execute_result"
    }
   ],
   "source": [
    "test_result= pd.concat([classes_test_pred, classes_test_pred,yhat_probs_test], axis=1)\n",
    "test_result"
   ]
  },
  {
   "cell_type": "code",
   "execution_count": 47,
   "id": "1568ac99",
   "metadata": {},
   "outputs": [],
   "source": [
    "test_result.columns =  ['sofa3m', 'class_pred', 'prob_pred']"
   ]
  },
  {
   "cell_type": "code",
   "execution_count": 48,
   "id": "a22e42f5",
   "metadata": {},
   "outputs": [],
   "source": [
    "test_result.to_csv('dnn for si over 1 in cgmh test result ver1 20230223.csv')"
   ]
  }
 ],
 "metadata": {
  "kernelspec": {
   "display_name": "Python 3",
   "language": "python",
   "name": "python3"
  },
  "language_info": {
   "codemirror_mode": {
    "name": "ipython",
    "version": 3
   },
   "file_extension": ".py",
   "mimetype": "text/x-python",
   "name": "python",
   "nbconvert_exporter": "python",
   "pygments_lexer": "ipython3",
   "version": "3.6.8"
  }
 },
 "nbformat": 4,
 "nbformat_minor": 5
}
