{
 "cells": [
  {
   "cell_type": "code",
   "execution_count": 1,
   "id": "a3fbcd77",
   "metadata": {},
   "outputs": [],
   "source": [
    "import keras,pandas as pd,os\n",
    "import tensorflow as tf\n",
    "from sklearn.metrics import roc_auc_score\n",
    "from keras.models import Sequential\n",
    "from keras.layers import Dense,Activation,Dropout\n",
    "from tensorflow.keras.layers import BatchNormalization\n",
    "from keras.callbacks import Callback, EarlyStopping\n",
    "from tensorflow.keras import regularizers\n",
    "from tensorflow.keras.optimizers import SGD,Adamax,RMSprop,Adam,Nadam"
   ]
  },
  {
   "cell_type": "code",
   "execution_count": 2,
   "id": "e9cd285f",
   "metadata": {},
   "outputs": [
    {
     "name": "stdout",
     "output_type": "stream",
     "text": [
      "10\n",
      "(4314,)\n",
      "(4314, 10)\n"
     ]
    }
   ],
   "source": [
    "\n",
    "S_1=pd.read_csv('Siover1_rf_top10_cgmh_data.csv')\n",
    "\n",
    "\n",
    "data_shape = S_1.shape\n",
    "\n",
    "\n",
    "Siov1_x=S_1.iloc[:,1:data_shape[1]]\n",
    "Siov1_y=S_1['si1m']\n",
    "\n",
    "print(Siov1_x.shape[1])\n",
    "print(Siov1_y.shape)\n",
    "print(Siov1_x.shape)"
   ]
  },
  {
   "cell_type": "code",
   "execution_count": 3,
   "id": "2361209d",
   "metadata": {},
   "outputs": [],
   "source": [
    "\n",
    "from sklearn.model_selection import train_test_split\n",
    "from utils.dataloader import normalized\n"
   ]
  },
  {
   "cell_type": "code",
   "execution_count": 4,
   "id": "1fd1d03a",
   "metadata": {},
   "outputs": [
    {
     "data": {
      "text/plain": [
       "(4314, 10)"
      ]
     },
     "execution_count": 4,
     "metadata": {},
     "output_type": "execute_result"
    }
   ],
   "source": [
    "Siov1_x.shape"
   ]
  },
  {
   "cell_type": "code",
   "execution_count": 5,
   "id": "6c332442",
   "metadata": {},
   "outputs": [],
   "source": [
    "S_3_test=pd.read_csv('Siover1_rf_top10_cgmh_data_test.csv')\n",
    "S_3_train=pd.read_csv('Siover1_rf_top10_cgmh_data_train.csv')\n"
   ]
  },
  {
   "cell_type": "code",
   "execution_count": 6,
   "id": "05d73d73",
   "metadata": {},
   "outputs": [
    {
     "data": {
      "text/plain": [
       "(1077, 11)"
      ]
     },
     "execution_count": 6,
     "metadata": {},
     "output_type": "execute_result"
    }
   ],
   "source": [
    "S_3_test.shape\n"
   ]
  },
  {
   "cell_type": "code",
   "execution_count": 7,
   "id": "476d913e",
   "metadata": {},
   "outputs": [
    {
     "data": {
      "text/plain": [
       "(3237, 11)"
      ]
     },
     "execution_count": 7,
     "metadata": {},
     "output_type": "execute_result"
    }
   ],
   "source": [
    "S_3_train.shape"
   ]
  },
  {
   "cell_type": "code",
   "execution_count": 8,
   "id": "26aeb033",
   "metadata": {},
   "outputs": [
    {
     "data": {
      "text/plain": [
       "(1077, 10)"
      ]
     },
     "execution_count": 8,
     "metadata": {},
     "output_type": "execute_result"
    }
   ],
   "source": [
    "test_x = S_3_test.iloc[:,1:data_shape[0]]\n",
    "test_x.shape"
   ]
  },
  {
   "cell_type": "code",
   "execution_count": 9,
   "id": "d05172db",
   "metadata": {},
   "outputs": [
    {
     "data": {
      "text/plain": [
       "(3237, 10)"
      ]
     },
     "execution_count": 9,
     "metadata": {},
     "output_type": "execute_result"
    }
   ],
   "source": [
    "train_x = S_3_train.iloc[:,1:data_shape[0]]\n",
    "train_x.shape"
   ]
  },
  {
   "cell_type": "code",
   "execution_count": 10,
   "id": "7b210814",
   "metadata": {},
   "outputs": [],
   "source": [
    "test_y=S_3_test['si1m']\n",
    "train_y=S_3_train['si1m']"
   ]
  },
  {
   "cell_type": "code",
   "execution_count": 11,
   "id": "bf3592bc",
   "metadata": {},
   "outputs": [
    {
     "data": {
      "text/plain": [
       "0       1\n",
       "1       1\n",
       "2       1\n",
       "3       1\n",
       "4       1\n",
       "       ..\n",
       "1072    0\n",
       "1073    0\n",
       "1074    0\n",
       "1075    0\n",
       "1076    0\n",
       "Name: si1m, Length: 1077, dtype: int64"
      ]
     },
     "execution_count": 11,
     "metadata": {},
     "output_type": "execute_result"
    }
   ],
   "source": [
    "test_y"
   ]
  },
  {
   "cell_type": "code",
   "execution_count": 12,
   "id": "6d283d95",
   "metadata": {},
   "outputs": [
    {
     "name": "stdout",
     "output_type": "stream",
     "text": [
      "(3237,)\n",
      "(3237, 10)\n",
      "(1077,)\n",
      "(1077, 10)\n",
      "60\n"
     ]
    }
   ],
   "source": [
    "\n",
    "print(train_y.shape)\n",
    "print(train_x.shape)\n",
    "print(test_y.shape)\n",
    "print(test_x.shape)\n",
    "print(sum(test_y))"
   ]
  },
  {
   "cell_type": "code",
   "execution_count": 13,
   "id": "ac895c07",
   "metadata": {},
   "outputs": [],
   "source": [
    "def auroc(y_true, y_pred):\n",
    "    return tf.py_function(roc_auc_score, (y_true, y_pred), tf.double)"
   ]
  },
  {
   "cell_type": "code",
   "execution_count": 14,
   "id": "f037de84",
   "metadata": {},
   "outputs": [],
   "source": [
    "from utils.model import best_model\n"
   ]
  },
  {
   "cell_type": "code",
   "execution_count": 15,
   "id": "b3461240",
   "metadata": {
    "scrolled": false
   },
   "outputs": [
    {
     "name": "stdout",
     "output_type": "stream",
     "text": [
      "Epoch 1/300\n",
      "30/30 [==============================] - 0s 5ms/step - loss: 0.3829 - accuracy: 0.9337 - val_loss: 0.0731 - val_accuracy: 1.0000\n",
      "Epoch 2/300\n",
      "30/30 [==============================] - 0s 1ms/step - loss: 0.2578 - accuracy: 0.9372 - val_loss: 0.0933 - val_accuracy: 1.0000\n",
      "Epoch 3/300\n",
      "30/30 [==============================] - 0s 1ms/step - loss: 0.2371 - accuracy: 0.9372 - val_loss: 0.0777 - val_accuracy: 1.0000\n",
      "Epoch 4/300\n",
      "30/30 [==============================] - 0s 1ms/step - loss: 0.2350 - accuracy: 0.9372 - val_loss: 0.0560 - val_accuracy: 1.0000\n",
      "Epoch 5/300\n",
      "30/30 [==============================] - 0s 1ms/step - loss: 0.2319 - accuracy: 0.9372 - val_loss: 0.0398 - val_accuracy: 1.0000\n",
      "Epoch 6/300\n",
      "30/30 [==============================] - 0s 1ms/step - loss: 0.2297 - accuracy: 0.9372 - val_loss: 0.0472 - val_accuracy: 1.0000\n",
      "Epoch 7/300\n",
      "30/30 [==============================] - 0s 1ms/step - loss: 0.2289 - accuracy: 0.9372 - val_loss: 0.0441 - val_accuracy: 1.0000\n",
      "Epoch 8/300\n",
      "30/30 [==============================] - 0s 1ms/step - loss: 0.2294 - accuracy: 0.9372 - val_loss: 0.0399 - val_accuracy: 1.0000\n",
      "Epoch 9/300\n",
      "30/30 [==============================] - 0s 1ms/step - loss: 0.2292 - accuracy: 0.9372 - val_loss: 0.0352 - val_accuracy: 1.0000\n",
      "Epoch 10/300\n",
      "30/30 [==============================] - 0s 1ms/step - loss: 0.2297 - accuracy: 0.9372 - val_loss: 0.0243 - val_accuracy: 1.0000\n",
      "Epoch 11/300\n",
      "30/30 [==============================] - 0s 1ms/step - loss: 0.2286 - accuracy: 0.9372 - val_loss: 0.0415 - val_accuracy: 1.0000\n",
      "Epoch 12/300\n",
      "30/30 [==============================] - 0s 1ms/step - loss: 0.2280 - accuracy: 0.9372 - val_loss: 0.0342 - val_accuracy: 1.0000\n",
      "Epoch 13/300\n",
      "30/30 [==============================] - 0s 1ms/step - loss: 0.2290 - accuracy: 0.9372 - val_loss: 0.0250 - val_accuracy: 1.0000\n",
      "Epoch 14/300\n",
      "30/30 [==============================] - 0s 1ms/step - loss: 0.2281 - accuracy: 0.9372 - val_loss: 0.0108 - val_accuracy: 1.0000\n",
      "Epoch 15/300\n",
      "30/30 [==============================] - 0s 1ms/step - loss: 0.2292 - accuracy: 0.9372 - val_loss: 0.0305 - val_accuracy: 1.0000\n",
      "Epoch 16/300\n",
      "30/30 [==============================] - 0s 1ms/step - loss: 0.2274 - accuracy: 0.9372 - val_loss: 0.0278 - val_accuracy: 1.0000\n",
      "Epoch 17/300\n",
      "30/30 [==============================] - 0s 1ms/step - loss: 0.2279 - accuracy: 0.9372 - val_loss: 0.0261 - val_accuracy: 1.0000\n",
      "Epoch 18/300\n",
      "30/30 [==============================] - 0s 1ms/step - loss: 0.2282 - accuracy: 0.9372 - val_loss: 0.0274 - val_accuracy: 1.0000\n",
      "Epoch 19/300\n",
      "30/30 [==============================] - 0s 1ms/step - loss: 0.2270 - accuracy: 0.9372 - val_loss: 0.0238 - val_accuracy: 1.0000\n",
      "Epoch 20/300\n",
      "30/30 [==============================] - 0s 1ms/step - loss: 0.2278 - accuracy: 0.9372 - val_loss: 0.0159 - val_accuracy: 1.0000\n",
      "Epoch 21/300\n",
      "30/30 [==============================] - 0s 1ms/step - loss: 0.2287 - accuracy: 0.9372 - val_loss: 0.0360 - val_accuracy: 1.0000\n",
      "Epoch 22/300\n",
      "30/30 [==============================] - 0s 1ms/step - loss: 0.2274 - accuracy: 0.9372 - val_loss: 0.0319 - val_accuracy: 1.0000\n",
      "Epoch 23/300\n",
      "30/30 [==============================] - 0s 1ms/step - loss: 0.2299 - accuracy: 0.9372 - val_loss: 0.0420 - val_accuracy: 1.0000\n",
      "Epoch 24/300\n",
      "30/30 [==============================] - 0s 1ms/step - loss: 0.2284 - accuracy: 0.9372 - val_loss: 0.0375 - val_accuracy: 1.0000\n",
      "Epoch 00024: early stopping\n",
      "<tensorflow.python.keras.callbacks.History object at 0x00000244516C9160>\n"
     ]
    },
    {
     "data": {
      "image/png": "[encoded data removed]",
      "text/plain": [
       "<Figure size 1080x360 with 1 Axes>"
      ]
     },
     "metadata": {
      "needs_background": "light"
     },
     "output_type": "display_data"
    },
    {
     "data": {
      "image/png": "[encoded data removed]",
      "text/plain": [
       "<Figure size 1080x360 with 1 Axes>"
      ]
     },
     "metadata": {
      "needs_background": "light"
     },
     "output_type": "display_data"
    }
   ],
   "source": [
    "model_best = best_model(train_x, test_x, train_y, test_y,input_shape=10, \n",
    "                        batch=100,epoch=300,lr=0.1,decay=0.001,momentum=0.8,af='relu',\n",
    "                        units_L=1,dropout=0.8 ,units_num=5,warm_up=0)\n"
   ]
  },
  {
   "cell_type": "code",
   "execution_count": 16,
   "id": "3c39b3cc",
   "metadata": {},
   "outputs": [],
   "source": [
    "yhat_probs_train = model_best.predict(train_x, verbose=0)\n",
    "yhat_probs_test = model_best.predict(test_x, verbose=0)"
   ]
  },
  {
   "cell_type": "code",
   "execution_count": 17,
   "id": "91ae957b",
   "metadata": {},
   "outputs": [],
   "source": [
    "_,accuracy_tr = model_best.evaluate(train_x, train_y,verbose=0)\n",
    "_,accuracy_te = model_best.evaluate(test_x, test_y,verbose=0)"
   ]
  },
  {
   "cell_type": "code",
   "execution_count": 18,
   "id": "eb6f1522",
   "metadata": {},
   "outputs": [
    {
     "data": {
      "text/plain": [
       "0.9434661865234375"
      ]
     },
     "execution_count": 18,
     "metadata": {},
     "output_type": "execute_result"
    }
   ],
   "source": [
    "accuracy_tr"
   ]
  },
  {
   "cell_type": "code",
   "execution_count": 19,
   "id": "2da15dc7",
   "metadata": {},
   "outputs": [
    {
     "data": {
      "text/plain": [
       "0.9442896842956543"
      ]
     },
     "execution_count": 19,
     "metadata": {},
     "output_type": "execute_result"
    }
   ],
   "source": [
    "accuracy_te"
   ]
  },
  {
   "cell_type": "code",
   "execution_count": 20,
   "id": "bff54cce",
   "metadata": {},
   "outputs": [],
   "source": [
    "auc_tr=roc_auc_score(train_y, yhat_probs_train)\n",
    "auc_te=roc_auc_score(test_y, yhat_probs_test)\n"
   ]
  },
  {
   "cell_type": "code",
   "execution_count": 21,
   "id": "c315266d",
   "metadata": {},
   "outputs": [],
   "source": [
    "\n",
    "yhat_probs_test = model_best.predict(test_x, verbose=0)"
   ]
  },
  {
   "cell_type": "code",
   "execution_count": 22,
   "id": "233da21a",
   "metadata": {},
   "outputs": [
    {
     "data": {
      "text/plain": [
       "0.8349374286522021"
      ]
     },
     "execution_count": 22,
     "metadata": {},
     "output_type": "execute_result"
    }
   ],
   "source": [
    "auc_tr"
   ]
  },
  {
   "cell_type": "code",
   "execution_count": 23,
   "id": "db583b2f",
   "metadata": {},
   "outputs": [
    {
     "data": {
      "text/plain": [
       "0.8589724680432644"
      ]
     },
     "execution_count": 23,
     "metadata": {},
     "output_type": "execute_result"
    }
   ],
   "source": [
    "auc_te"
   ]
  },
  {
   "cell_type": "code",
   "execution_count": 24,
   "id": "071749fa",
   "metadata": {},
   "outputs": [],
   "source": [
    "r0=pd.DataFrame([accuracy_tr, accuracy_te,auc_tr,auc_te])\n",
    "\n"
   ]
  },
  {
   "cell_type": "code",
   "execution_count": 25,
   "id": "d458e994",
   "metadata": {},
   "outputs": [
    {
     "name": "stdout",
     "output_type": "stream",
     "text": [
      "(1077, 1)\n",
      "WARNING:tensorflow:From C:\\Users\\PEK\\check0\\utils\\visualize.py:37: Sequential.predict_classes (from tensorflow.python.keras.engine.sequential) is deprecated and will be removed after 2021-01-01.\n",
      "Instructions for updating:\n",
      "Please use instead:* `np.argmax(model.predict(x), axis=-1)`,   if your model does multi-class classification   (e.g. if it uses a `softmax` last-layer activation).* `(model.predict(x) > 0.5).astype(\"int32\")`,   if your model does binary classification   (e.g. if it uses a `sigmoid` last-layer activation).\n",
      "=== Accuracy ===\n",
      "Accuracy (train): 0.943466\n",
      "Accuracy (test): 0.944290\n",
      "\n",
      "\n",
      "=== Precision ===\n",
      "Precision (train): 0.000000\n",
      "Precision (test): 0.000000\n",
      "\n",
      "\n",
      "=== Recall ===\n",
      "Recall (train): 0.000000\n",
      "Recall (test): 0.000000\n",
      "\n",
      "\n",
      "=== F1 score ===\n",
      "F1 score (train): 0.000000\n",
      "F1 score (test): 0.000000\n",
      "\n",
      "\n",
      "=== Cohens Kappa ===\n",
      "Cohens kappa (train): 0.000000\n",
      "Cohens kappa (test): 0.000000\n",
      "\n",
      "\n",
      "=== ROC AUC ===\n",
      "ROC AUC for training dataset: 0.834937\n",
      "ROC AUC for testing dataset: 0.858972\n",
      "\n",
      "\n",
      "=== Confusion matrix for train datset ===\n",
      "[[3054    0]\n",
      " [ 183    0]]\n",
      "\n",
      "\n",
      "=== Confusion matrix for test datset ===\n",
      "[[1017    0]\n",
      " [  60    0]]\n"
     ]
    },
    {
     "name": "stderr",
     "output_type": "stream",
     "text": [
      "C:\\Users\\PEK\\AppData\\Roaming\\Python\\Python36\\site-packages\\sklearn\\metrics\\_classification.py:1221: UndefinedMetricWarning: Precision is ill-defined and being set to 0.0 due to no predicted samples. Use `zero_division` parameter to control this behavior.\n",
      "  _warn_prf(average, modifier, msg_start, len(result))\n"
     ]
    },
    {
     "data": {
      "image/png": "[encoded data removed]",
      "text/plain": [
       "<Figure size 432x288 with 1 Axes>"
      ]
     },
     "metadata": {
      "needs_background": "light"
     },
     "output_type": "display_data"
    }
   ],
   "source": [
    "from utils.visualize import visualize\n",
    "yhat_probs_train = model_best.predict(train_x, verbose=0)\n",
    "yhat_probs_test = model_best.predict(test_x, verbose=0)\n",
    "print(yhat_probs_test.shape)\n",
    "yhat_classes_train,yhat_classes_test=visualize(yhat_probs_train,yhat_probs_test,model_best,train_x,train_y,test_x,test_y)"
   ]
  },
  {
   "cell_type": "code",
   "execution_count": 26,
   "id": "3f9046d8",
   "metadata": {},
   "outputs": [],
   "source": [
    "df1 = r0.T"
   ]
  },
  {
   "cell_type": "code",
   "execution_count": 27,
   "id": "d78d552a",
   "metadata": {},
   "outputs": [],
   "source": [
    "df1.columns = ['Train accuracy', 'valid accuracy','Train AUC' ,'Valid AUC' ]"
   ]
  },
  {
   "cell_type": "code",
   "execution_count": 28,
   "id": "12beb560",
   "metadata": {},
   "outputs": [
    {
     "data": {
      "text/html": [
       "<div>\n",
       "<style scoped>\n",
       "    .dataframe tbody tr th:only-of-type {\n",
       "        vertical-align: middle;\n",
       "    }\n",
       "\n",
       "    .dataframe tbody tr th {\n",
       "        vertical-align: top;\n",
       "    }\n",
       "\n",
       "    .dataframe thead th {\n",
       "        text-align: right;\n",
       "    }\n",
       "</style>\n",
       "<table border=\"1\" class=\"dataframe\">\n",
       "  <thead>\n",
       "    <tr style=\"text-align: right;\">\n",
       "      <th></th>\n",
       "      <th>Train accuracy</th>\n",
       "      <th>valid accuracy</th>\n",
       "      <th>Train AUC</th>\n",
       "      <th>Valid AUC</th>\n",
       "    </tr>\n",
       "  </thead>\n",
       "  <tbody>\n",
       "    <tr>\n",
       "      <th>0</th>\n",
       "      <td>0.943466</td>\n",
       "      <td>0.94429</td>\n",
       "      <td>0.834937</td>\n",
       "      <td>0.858972</td>\n",
       "    </tr>\n",
       "  </tbody>\n",
       "</table>\n",
       "</div>"
      ],
      "text/plain": [
       "   Train accuracy  valid accuracy  Train AUC  Valid AUC\n",
       "0        0.943466         0.94429   0.834937   0.858972"
      ]
     },
     "execution_count": 28,
     "metadata": {},
     "output_type": "execute_result"
    }
   ],
   "source": [
    "df1"
   ]
  },
  {
   "cell_type": "code",
   "execution_count": 29,
   "id": "11848294",
   "metadata": {},
   "outputs": [],
   "source": [
    "import numpy as np"
   ]
  },
  {
   "cell_type": "code",
   "execution_count": 30,
   "id": "d4c63676",
   "metadata": {},
   "outputs": [
    {
     "data": {
      "text/plain": [
       "array([0, 0, 0, ..., 0, 0, 0], dtype=int64)"
      ]
     },
     "execution_count": 30,
     "metadata": {},
     "output_type": "execute_result"
    }
   ],
   "source": [
    "predict_train=model_best.predict(train_x) \n",
    "classes_train_pred=np.argmax(predict_train,axis=1)\n",
    "classes_train_pred"
   ]
  },
  {
   "cell_type": "code",
   "execution_count": 31,
   "id": "52285dae",
   "metadata": {},
   "outputs": [
    {
     "data": {
      "text/plain": [
       "array([0, 0, 0, ..., 0, 0, 0], dtype=int64)"
      ]
     },
     "execution_count": 31,
     "metadata": {},
     "output_type": "execute_result"
    }
   ],
   "source": [
    "predict_test=model_best.predict(test_x) \n",
    "classes_test_pred=np.argmax(predict_test,axis=1)\n",
    "classes_test_pred"
   ]
  },
  {
   "cell_type": "code",
   "execution_count": 32,
   "id": "42f64972",
   "metadata": {},
   "outputs": [],
   "source": [
    "train_y = pd.DataFrame(train_y)\n",
    "classes_train_pred = pd.DataFrame(classes_train_pred)\n",
    "yhat_probs_train = pd.DataFrame(yhat_probs_train)"
   ]
  },
  {
   "cell_type": "code",
   "execution_count": 33,
   "id": "273d7153",
   "metadata": {},
   "outputs": [
    {
     "data": {
      "text/html": [
       "<div>\n",
       "<style scoped>\n",
       "    .dataframe tbody tr th:only-of-type {\n",
       "        vertical-align: middle;\n",
       "    }\n",
       "\n",
       "    .dataframe tbody tr th {\n",
       "        vertical-align: top;\n",
       "    }\n",
       "\n",
       "    .dataframe thead th {\n",
       "        text-align: right;\n",
       "    }\n",
       "</style>\n",
       "<table border=\"1\" class=\"dataframe\">\n",
       "  <thead>\n",
       "    <tr style=\"text-align: right;\">\n",
       "      <th></th>\n",
       "      <th>si1m</th>\n",
       "      <th>0</th>\n",
       "      <th>0</th>\n",
       "    </tr>\n",
       "  </thead>\n",
       "  <tbody>\n",
       "    <tr>\n",
       "      <th>0</th>\n",
       "      <td>1</td>\n",
       "      <td>0</td>\n",
       "      <td>0.069354</td>\n",
       "    </tr>\n",
       "    <tr>\n",
       "      <th>1</th>\n",
       "      <td>1</td>\n",
       "      <td>0</td>\n",
       "      <td>0.069354</td>\n",
       "    </tr>\n",
       "    <tr>\n",
       "      <th>2</th>\n",
       "      <td>1</td>\n",
       "      <td>0</td>\n",
       "      <td>0.069354</td>\n",
       "    </tr>\n",
       "    <tr>\n",
       "      <th>3</th>\n",
       "      <td>1</td>\n",
       "      <td>0</td>\n",
       "      <td>0.069354</td>\n",
       "    </tr>\n",
       "    <tr>\n",
       "      <th>4</th>\n",
       "      <td>1</td>\n",
       "      <td>0</td>\n",
       "      <td>0.069354</td>\n",
       "    </tr>\n",
       "    <tr>\n",
       "      <th>...</th>\n",
       "      <td>...</td>\n",
       "      <td>...</td>\n",
       "      <td>...</td>\n",
       "    </tr>\n",
       "    <tr>\n",
       "      <th>3232</th>\n",
       "      <td>0</td>\n",
       "      <td>0</td>\n",
       "      <td>0.069354</td>\n",
       "    </tr>\n",
       "    <tr>\n",
       "      <th>3233</th>\n",
       "      <td>0</td>\n",
       "      <td>0</td>\n",
       "      <td>0.069354</td>\n",
       "    </tr>\n",
       "    <tr>\n",
       "      <th>3234</th>\n",
       "      <td>0</td>\n",
       "      <td>0</td>\n",
       "      <td>0.069354</td>\n",
       "    </tr>\n",
       "    <tr>\n",
       "      <th>3235</th>\n",
       "      <td>0</td>\n",
       "      <td>0</td>\n",
       "      <td>0.069354</td>\n",
       "    </tr>\n",
       "    <tr>\n",
       "      <th>3236</th>\n",
       "      <td>0</td>\n",
       "      <td>0</td>\n",
       "      <td>0.068602</td>\n",
       "    </tr>\n",
       "  </tbody>\n",
       "</table>\n",
       "<p>3237 rows × 3 columns</p>\n",
       "</div>"
      ],
      "text/plain": [
       "      si1m  0         0\n",
       "0        1  0  0.069354\n",
       "1        1  0  0.069354\n",
       "2        1  0  0.069354\n",
       "3        1  0  0.069354\n",
       "4        1  0  0.069354\n",
       "...    ... ..       ...\n",
       "3232     0  0  0.069354\n",
       "3233     0  0  0.069354\n",
       "3234     0  0  0.069354\n",
       "3235     0  0  0.069354\n",
       "3236     0  0  0.068602\n",
       "\n",
       "[3237 rows x 3 columns]"
      ]
     },
     "execution_count": 33,
     "metadata": {},
     "output_type": "execute_result"
    }
   ],
   "source": [
    "train_result= pd.concat([train_y, classes_train_pred,yhat_probs_train], axis=1)\n",
    "train_result"
   ]
  },
  {
   "cell_type": "code",
   "execution_count": 34,
   "id": "3d0a9494",
   "metadata": {},
   "outputs": [],
   "source": [
    "train_result.columns =  ['sofa3m', 'class_pred', 'prob_pred']"
   ]
  },
  {
   "cell_type": "code",
   "execution_count": 35,
   "id": "bea0c02c",
   "metadata": {},
   "outputs": [],
   "source": [
    "train_result.to_csv('dnn for si over 1 in cgmh train result ver2 20230503.csv')"
   ]
  },
  {
   "cell_type": "code",
   "execution_count": 36,
   "id": "3b71616f",
   "metadata": {},
   "outputs": [],
   "source": [
    "test_y = pd.DataFrame(test_y)\n",
    "classes_test_pred = pd.DataFrame(classes_test_pred)\n",
    "yhat_probs_test = pd.DataFrame(yhat_probs_test)"
   ]
  },
  {
   "cell_type": "code",
   "execution_count": 37,
   "id": "3e566852",
   "metadata": {},
   "outputs": [
    {
     "data": {
      "text/html": [
       "<div>\n",
       "<style scoped>\n",
       "    .dataframe tbody tr th:only-of-type {\n",
       "        vertical-align: middle;\n",
       "    }\n",
       "\n",
       "    .dataframe tbody tr th {\n",
       "        vertical-align: top;\n",
       "    }\n",
       "\n",
       "    .dataframe thead th {\n",
       "        text-align: right;\n",
       "    }\n",
       "</style>\n",
       "<table border=\"1\" class=\"dataframe\">\n",
       "  <thead>\n",
       "    <tr style=\"text-align: right;\">\n",
       "      <th></th>\n",
       "      <th>0</th>\n",
       "      <th>0</th>\n",
       "      <th>0</th>\n",
       "    </tr>\n",
       "  </thead>\n",
       "  <tbody>\n",
       "    <tr>\n",
       "      <th>0</th>\n",
       "      <td>0</td>\n",
       "      <td>0</td>\n",
       "      <td>0.069343</td>\n",
       "    </tr>\n",
       "    <tr>\n",
       "      <th>1</th>\n",
       "      <td>0</td>\n",
       "      <td>0</td>\n",
       "      <td>0.054286</td>\n",
       "    </tr>\n",
       "    <tr>\n",
       "      <th>2</th>\n",
       "      <td>0</td>\n",
       "      <td>0</td>\n",
       "      <td>0.069354</td>\n",
       "    </tr>\n",
       "    <tr>\n",
       "      <th>3</th>\n",
       "      <td>0</td>\n",
       "      <td>0</td>\n",
       "      <td>0.069354</td>\n",
       "    </tr>\n",
       "    <tr>\n",
       "      <th>4</th>\n",
       "      <td>0</td>\n",
       "      <td>0</td>\n",
       "      <td>0.069354</td>\n",
       "    </tr>\n",
       "    <tr>\n",
       "      <th>...</th>\n",
       "      <td>...</td>\n",
       "      <td>...</td>\n",
       "      <td>...</td>\n",
       "    </tr>\n",
       "    <tr>\n",
       "      <th>1072</th>\n",
       "      <td>0</td>\n",
       "      <td>0</td>\n",
       "      <td>0.041656</td>\n",
       "    </tr>\n",
       "    <tr>\n",
       "      <th>1073</th>\n",
       "      <td>0</td>\n",
       "      <td>0</td>\n",
       "      <td>0.068979</td>\n",
       "    </tr>\n",
       "    <tr>\n",
       "      <th>1074</th>\n",
       "      <td>0</td>\n",
       "      <td>0</td>\n",
       "      <td>0.059548</td>\n",
       "    </tr>\n",
       "    <tr>\n",
       "      <th>1075</th>\n",
       "      <td>0</td>\n",
       "      <td>0</td>\n",
       "      <td>0.006865</td>\n",
       "    </tr>\n",
       "    <tr>\n",
       "      <th>1076</th>\n",
       "      <td>0</td>\n",
       "      <td>0</td>\n",
       "      <td>0.068456</td>\n",
       "    </tr>\n",
       "  </tbody>\n",
       "</table>\n",
       "<p>1077 rows × 3 columns</p>\n",
       "</div>"
      ],
      "text/plain": [
       "      0  0         0\n",
       "0     0  0  0.069343\n",
       "1     0  0  0.054286\n",
       "2     0  0  0.069354\n",
       "3     0  0  0.069354\n",
       "4     0  0  0.069354\n",
       "...  .. ..       ...\n",
       "1072  0  0  0.041656\n",
       "1073  0  0  0.068979\n",
       "1074  0  0  0.059548\n",
       "1075  0  0  0.006865\n",
       "1076  0  0  0.068456\n",
       "\n",
       "[1077 rows x 3 columns]"
      ]
     },
     "execution_count": 37,
     "metadata": {},
     "output_type": "execute_result"
    }
   ],
   "source": [
    "test_result= pd.concat([classes_test_pred, classes_test_pred,yhat_probs_test], axis=1)\n",
    "test_result"
   ]
  },
  {
   "cell_type": "code",
   "execution_count": 38,
   "id": "1568ac99",
   "metadata": {},
   "outputs": [],
   "source": [
    "test_result.columns =  ['sofa3m', 'class_pred', 'prob_pred']"
   ]
  },
  {
   "cell_type": "code",
   "execution_count": 39,
   "id": "a22e42f5",
   "metadata": {},
   "outputs": [],
   "source": [
    "test_result.to_csv('dnn for si over 1 in cgmh test result ver2 20230503.csv')"
   ]
  }
 ],
 "metadata": {
  "kernelspec": {
   "display_name": "Python 3",
   "language": "python",
   "name": "python3"
  },
  "language_info": {
   "codemirror_mode": {
    "name": "ipython",
    "version": 3
   },
   "file_extension": ".py",
   "mimetype": "text/x-python",
   "name": "python",
   "nbconvert_exporter": "python",
   "pygments_lexer": "ipython3",
   "version": "3.6.8"
  }
 },
 "nbformat": 4,
 "nbformat_minor": 5
}
