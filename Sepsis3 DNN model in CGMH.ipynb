{
 "cells": [
  {
   "cell_type": "code",
   "execution_count": 1,
   "id": "a3fbcd77",
   "metadata": {},
   "outputs": [],
   "source": [
    "import keras,pandas as pd,os\n",
    "import tensorflow as tf\n",
    "from sklearn.metrics import roc_auc_score\n",
    "from keras.models import Sequential\n",
    "from keras.layers import Dense,Activation,Dropout\n",
    "# from keras.layers.normalization import BatchNormalization\n",
    "from tensorflow.keras.layers import BatchNormalization\n",
    "# from keras.optimizers import SGD\n",
    "from keras.callbacks import Callback, EarlyStopping\n",
    "from tensorflow.keras import regularizers\n",
    "# from tensorflow_addons.optimizers import AdamW\n",
    "# from keras.optimizers import SGD,Adamax,RMSprop,Adam\n",
    "from tensorflow.keras.optimizers import SGD,Adamax,RMSprop,Adam,Nadam\n",
    "# os.environ['TF_CPP_MIN_LOG_LEVEL'] = '4'"
   ]
  },
  {
   "cell_type": "code",
   "execution_count": 2,
   "id": "fb10feea",
   "metadata": {},
   "outputs": [],
   "source": [
    "from tensorflow.keras.optimizers import SGD,Adamax,RMSprop,Adam,Nadam"
   ]
  },
  {
   "cell_type": "code",
   "execution_count": 3,
   "id": "e9cd285f",
   "metadata": {},
   "outputs": [
    {
     "name": "stdout",
     "output_type": "stream",
     "text": [
      "10\n",
      "(4314,)\n",
      "(4314, 10)\n"
     ]
    }
   ],
   "source": [
    "S_3=pd.read_csv('Sepsis3_rf_top10_cgmh_data.csv')\n",
    "\n",
    "\n",
    "data_shape = S_3.shape\n",
    "Seps3_x=S_3.iloc[:,1:data_shape[0]]\n",
    "Seps3_y=S_3['sofa3m']\n",
    "\n",
    "print(Seps3_x.shape[1])\n",
    "print(Seps3_y.shape)\n",
    "print(Seps3_x.shape)"
   ]
  },
  {
   "cell_type": "code",
   "execution_count": 4,
   "id": "2361209d",
   "metadata": {},
   "outputs": [],
   "source": [
    "\n",
    "from sklearn.model_selection import train_test_split\n",
    "from utils.dataloader import normalized\n",
    "# train_x, test_x, train_y, test_y = train_test_split(Seps3_x,Seps3_y,test_size = 0.25, random_state = 1234, stratify =Seps3_y)"
   ]
  },
  {
   "cell_type": "code",
   "execution_count": 5,
   "id": "1fd1d03a",
   "metadata": {},
   "outputs": [
    {
     "data": {
      "text/plain": [
       "(4314, 10)"
      ]
     },
     "execution_count": 5,
     "metadata": {},
     "output_type": "execute_result"
    }
   ],
   "source": [
    "Seps3_x.shape"
   ]
  },
  {
   "cell_type": "code",
   "execution_count": 6,
   "id": "6c332442",
   "metadata": {},
   "outputs": [],
   "source": [
    "S_3_test=pd.read_csv('Sepsis3_rf_top10_cgmh_data_test.csv')\n",
    "S_3_train=pd.read_csv('Sepsis3_rf_top10_cgmh_data_train.csv')\n"
   ]
  },
  {
   "cell_type": "code",
   "execution_count": 7,
   "id": "05d73d73",
   "metadata": {},
   "outputs": [
    {
     "data": {
      "text/plain": [
       "(1078, 11)"
      ]
     },
     "execution_count": 7,
     "metadata": {},
     "output_type": "execute_result"
    }
   ],
   "source": [
    "S_3_test.shape\n"
   ]
  },
  {
   "cell_type": "code",
   "execution_count": 8,
   "id": "476d913e",
   "metadata": {},
   "outputs": [
    {
     "data": {
      "text/plain": [
       "(3236, 11)"
      ]
     },
     "execution_count": 8,
     "metadata": {},
     "output_type": "execute_result"
    }
   ],
   "source": [
    "S_3_train.shape"
   ]
  },
  {
   "cell_type": "code",
   "execution_count": 9,
   "id": "26aeb033",
   "metadata": {},
   "outputs": [
    {
     "data": {
      "text/plain": [
       "(1078, 10)"
      ]
     },
     "execution_count": 9,
     "metadata": {},
     "output_type": "execute_result"
    }
   ],
   "source": [
    "test_x = S_3_test.iloc[:,1:data_shape[0]]\n",
    "test_x.shape"
   ]
  },
  {
   "cell_type": "code",
   "execution_count": 10,
   "id": "d05172db",
   "metadata": {},
   "outputs": [
    {
     "data": {
      "text/plain": [
       "(3236, 10)"
      ]
     },
     "execution_count": 10,
     "metadata": {},
     "output_type": "execute_result"
    }
   ],
   "source": [
    "train_x = S_3_train.iloc[:,1:data_shape[0]]\n",
    "train_x.shape"
   ]
  },
  {
   "cell_type": "code",
   "execution_count": 11,
   "id": "7b210814",
   "metadata": {},
   "outputs": [],
   "source": [
    "test_y=S_3_test['sofa3m']\n",
    "train_y=S_3_train['sofa3m']"
   ]
  },
  {
   "cell_type": "code",
   "execution_count": 12,
   "id": "bf3592bc",
   "metadata": {},
   "outputs": [
    {
     "data": {
      "text/plain": [
       "0       1\n",
       "1       1\n",
       "2       1\n",
       "3       1\n",
       "4       1\n",
       "       ..\n",
       "1073    0\n",
       "1074    0\n",
       "1075    0\n",
       "1076    0\n",
       "1077    0\n",
       "Name: sofa3m, Length: 1078, dtype: int64"
      ]
     },
     "execution_count": 12,
     "metadata": {},
     "output_type": "execute_result"
    }
   ],
   "source": [
    "test_y"
   ]
  },
  {
   "cell_type": "code",
   "execution_count": 13,
   "id": "6d283d95",
   "metadata": {},
   "outputs": [
    {
     "name": "stdout",
     "output_type": "stream",
     "text": [
      "(3236,)\n",
      "(3236, 10)\n",
      "(1078,)\n",
      "(1078, 10)\n",
      "134\n"
     ]
    }
   ],
   "source": [
    "\n",
    "\n",
    "print(train_y.shape)\n",
    "print(train_x.shape)\n",
    "print(test_y.shape)\n",
    "print(test_x.shape)\n",
    "print(sum(test_y))"
   ]
  },
  {
   "cell_type": "code",
   "execution_count": 14,
   "id": "ac895c07",
   "metadata": {},
   "outputs": [],
   "source": [
    "def auroc(y_true, y_pred):\n",
    "    return tf.py_function(roc_auc_score, (y_true, y_pred), tf.double)"
   ]
  },
  {
   "cell_type": "code",
   "execution_count": 15,
   "id": "2fb5da02",
   "metadata": {},
   "outputs": [],
   "source": [
    "from utils.model import best_model"
   ]
  },
  {
   "cell_type": "code",
   "execution_count": 16,
   "id": "f5ad2569",
   "metadata": {},
   "outputs": [
    {
     "name": "stdout",
     "output_type": "stream",
     "text": [
      "Epoch 1/300\n",
      "25/25 [==============================] - 0s 7ms/step - loss: 0.4212 - accuracy: 0.8345 - val_loss: 0.0000e+00 - val_accuracy: 1.0000\n",
      "Epoch 2/300\n",
      "25/25 [==============================] - 0s 2ms/step - loss: 0.3293 - accuracy: 0.8757 - val_loss: 6.0702e-10 - val_accuracy: 1.0000\n",
      "Epoch 3/300\n",
      "25/25 [==============================] - 0s 2ms/step - loss: 0.3055 - accuracy: 0.8819 - val_loss: 3.6488e-04 - val_accuracy: 1.0000\n",
      "Epoch 4/300\n",
      "25/25 [==============================] - 0s 2ms/step - loss: 0.2962 - accuracy: 0.8839 - val_loss: 0.0348 - val_accuracy: 1.0000\n",
      "Epoch 5/300\n",
      "25/25 [==============================] - 0s 2ms/step - loss: 0.2935 - accuracy: 0.8788 - val_loss: 0.0472 - val_accuracy: 0.9969\n",
      "Epoch 6/300\n",
      "25/25 [==============================] - 0s 2ms/step - loss: 0.2835 - accuracy: 0.8877 - val_loss: 0.0572 - val_accuracy: 1.0000\n",
      "Epoch 7/300\n",
      "25/25 [==============================] - 0s 2ms/step - loss: 0.2820 - accuracy: 0.8877 - val_loss: 0.0959 - val_accuracy: 0.9784\n",
      "Epoch 8/300\n",
      "25/25 [==============================] - 0s 2ms/step - loss: 0.2826 - accuracy: 0.8891 - val_loss: 0.1084 - val_accuracy: 0.9815\n",
      "Epoch 9/300\n",
      "25/25 [==============================] - 0s 2ms/step - loss: 0.2793 - accuracy: 0.8877 - val_loss: 0.0942 - val_accuracy: 0.9877\n",
      "Epoch 10/300\n",
      "25/25 [==============================] - 0s 2ms/step - loss: 0.2765 - accuracy: 0.8877 - val_loss: 0.1281 - val_accuracy: 0.9753\n",
      "Epoch 11/300\n",
      "25/25 [==============================] - 0s 2ms/step - loss: 0.2749 - accuracy: 0.8911 - val_loss: 0.1292 - val_accuracy: 0.9753\n",
      "Epoch 00011: early stopping\n",
      "<tensorflow.python.keras.callbacks.History object at 0x00000252D19FF240>\n"
     ]
    },
    {
     "data": {
      "image/png": "[encoded data removed]",
      "text/plain": [
       "<Figure size 1080x360 with 1 Axes>"
      ]
     },
     "metadata": {
      "needs_background": "light"
     },
     "output_type": "display_data"
    },
    {
     "data": {
      "image/png": "[encoded data removed]",
      "text/plain": [
       "<Figure size 1080x360 with 1 Axes>"
      ]
     },
     "metadata": {
      "needs_background": "light"
     },
     "output_type": "display_data"
    }
   ],
   "source": [
    "model_best = best_model(train_x, test_x, train_y, test_y,input_shape=10, \n",
    "                        batch=120,epoch=300,lr=0.1,decay=0.1,momentum=0.8,af='relu',\n",
    "                        units_L=2,dropout=0.1,units_num=50,warm_up=0)"
   ]
  },
  {
   "cell_type": "code",
   "execution_count": 17,
   "id": "3c39b3cc",
   "metadata": {},
   "outputs": [],
   "source": [
    "yhat_probs_train = model_best.predict(train_x, verbose=0)\n",
    "yhat_probs_test = model_best.predict(test_x, verbose=0)"
   ]
  },
  {
   "cell_type": "code",
   "execution_count": 18,
   "id": "91ae957b",
   "metadata": {},
   "outputs": [],
   "source": [
    "_,accuracy_tr = model_best.evaluate(train_x, train_y,verbose=0)\n",
    "_,accuracy_te = model_best.evaluate(test_x, test_y,verbose=0)"
   ]
  },
  {
   "cell_type": "code",
   "execution_count": 19,
   "id": "eb6f1522",
   "metadata": {},
   "outputs": [
    {
     "data": {
      "text/plain": [
       "0.9088380932807922"
      ]
     },
     "execution_count": 19,
     "metadata": {},
     "output_type": "execute_result"
    }
   ],
   "source": [
    "accuracy_tr"
   ]
  },
  {
   "cell_type": "code",
   "execution_count": 20,
   "id": "2da15dc7",
   "metadata": {},
   "outputs": [
    {
     "data": {
      "text/plain": [
       "0.9025974273681641"
      ]
     },
     "execution_count": 20,
     "metadata": {},
     "output_type": "execute_result"
    }
   ],
   "source": [
    "accuracy_te"
   ]
  },
  {
   "cell_type": "code",
   "execution_count": 21,
   "id": "bff54cce",
   "metadata": {},
   "outputs": [],
   "source": [
    "auc_tr=roc_auc_score(train_y, yhat_probs_train)\n",
    "auc_te=roc_auc_score(test_y, yhat_probs_test)\n"
   ]
  },
  {
   "cell_type": "code",
   "execution_count": 22,
   "id": "233da21a",
   "metadata": {},
   "outputs": [
    {
     "data": {
      "text/plain": [
       "0.8811854967276389"
      ]
     },
     "execution_count": 22,
     "metadata": {},
     "output_type": "execute_result"
    }
   ],
   "source": [
    "auc_tr"
   ]
  },
  {
   "cell_type": "code",
   "execution_count": 23,
   "id": "db583b2f",
   "metadata": {},
   "outputs": [
    {
     "data": {
      "text/plain": [
       "0.8866762585378194"
      ]
     },
     "execution_count": 23,
     "metadata": {},
     "output_type": "execute_result"
    }
   ],
   "source": [
    "auc_te"
   ]
  },
  {
   "cell_type": "code",
   "execution_count": 24,
   "id": "071749fa",
   "metadata": {},
   "outputs": [],
   "source": [
    "r0=pd.DataFrame([accuracy_tr, accuracy_te,auc_tr,auc_te])\n",
    "\n"
   ]
  },
  {
   "cell_type": "code",
   "execution_count": 26,
   "id": "3f9046d8",
   "metadata": {},
   "outputs": [],
   "source": [
    "df1 = pd.DataFrame(r0.T)"
   ]
  },
  {
   "cell_type": "code",
   "execution_count": 27,
   "id": "d78d552a",
   "metadata": {},
   "outputs": [],
   "source": [
    "df1.columns = ['Train accuracy', 'Test accuracy', 'Train AUC' ,'Test AUC']"
   ]
  },
  {
   "cell_type": "code",
   "execution_count": 28,
   "id": "12beb560",
   "metadata": {},
   "outputs": [
    {
     "data": {
      "text/html": [
       "<div>\n",
       "<style scoped>\n",
       "    .dataframe tbody tr th:only-of-type {\n",
       "        vertical-align: middle;\n",
       "    }\n",
       "\n",
       "    .dataframe tbody tr th {\n",
       "        vertical-align: top;\n",
       "    }\n",
       "\n",
       "    .dataframe thead th {\n",
       "        text-align: right;\n",
       "    }\n",
       "</style>\n",
       "<table border=\"1\" class=\"dataframe\">\n",
       "  <thead>\n",
       "    <tr style=\"text-align: right;\">\n",
       "      <th></th>\n",
       "      <th>Train accuracy</th>\n",
       "      <th>Test accuracy</th>\n",
       "      <th>Train AUC</th>\n",
       "      <th>Test AUC</th>\n",
       "    </tr>\n",
       "  </thead>\n",
       "  <tbody>\n",
       "    <tr>\n",
       "      <th>0</th>\n",
       "      <td>0.908838</td>\n",
       "      <td>0.902597</td>\n",
       "      <td>0.881185</td>\n",
       "      <td>0.886676</td>\n",
       "    </tr>\n",
       "  </tbody>\n",
       "</table>\n",
       "</div>"
      ],
      "text/plain": [
       "   Train accuracy  Test accuracy  Train AUC  Test AUC\n",
       "0        0.908838       0.902597   0.881185  0.886676"
      ]
     },
     "execution_count": 28,
     "metadata": {},
     "output_type": "execute_result"
    }
   ],
   "source": [
    "df1"
   ]
  },
  {
   "cell_type": "code",
   "execution_count": 33,
   "id": "065528e5",
   "metadata": {},
   "outputs": [],
   "source": [
    "\n",
    "import numpy as np"
   ]
  },
  {
   "cell_type": "code",
   "execution_count": 34,
   "id": "8bb5807f",
   "metadata": {},
   "outputs": [
    {
     "data": {
      "text/plain": [
       "array([0, 0, 0, ..., 0, 0, 0], dtype=int64)"
      ]
     },
     "execution_count": 34,
     "metadata": {},
     "output_type": "execute_result"
    }
   ],
   "source": [
    "predict_train=model_best.predict(train_x) \n",
    "classes_train_pred=np.argmax(predict_train,axis=1)\n",
    "classes_train_pred"
   ]
  },
  {
   "cell_type": "code",
   "execution_count": 35,
   "id": "a1793483",
   "metadata": {},
   "outputs": [
    {
     "data": {
      "text/plain": [
       "array([0, 0, 0, ..., 0, 0, 0], dtype=int64)"
      ]
     },
     "execution_count": 35,
     "metadata": {},
     "output_type": "execute_result"
    }
   ],
   "source": [
    "predict_test=model_best.predict(test_x) \n",
    "classes_test_pred=np.argmax(predict_test,axis=1)\n",
    "classes_test_pred"
   ]
  },
  {
   "cell_type": "code",
   "execution_count": 36,
   "id": "62746618",
   "metadata": {},
   "outputs": [],
   "source": [
    "train_y = pd.DataFrame(train_y)\n",
    "classes_train_pred = pd.DataFrame(classes_train_pred)\n",
    "yhat_probs_train = pd.DataFrame(yhat_probs_train)"
   ]
  },
  {
   "cell_type": "code",
   "execution_count": 37,
   "id": "f64a2eae",
   "metadata": {},
   "outputs": [
    {
     "data": {
      "text/html": [
       "<div>\n",
       "<style scoped>\n",
       "    .dataframe tbody tr th:only-of-type {\n",
       "        vertical-align: middle;\n",
       "    }\n",
       "\n",
       "    .dataframe tbody tr th {\n",
       "        vertical-align: top;\n",
       "    }\n",
       "\n",
       "    .dataframe thead th {\n",
       "        text-align: right;\n",
       "    }\n",
       "</style>\n",
       "<table border=\"1\" class=\"dataframe\">\n",
       "  <thead>\n",
       "    <tr style=\"text-align: right;\">\n",
       "      <th></th>\n",
       "      <th>sofa3m</th>\n",
       "      <th>0</th>\n",
       "      <th>0</th>\n",
       "    </tr>\n",
       "  </thead>\n",
       "  <tbody>\n",
       "    <tr>\n",
       "      <th>0</th>\n",
       "      <td>1</td>\n",
       "      <td>0</td>\n",
       "      <td>0.534683</td>\n",
       "    </tr>\n",
       "    <tr>\n",
       "      <th>1</th>\n",
       "      <td>1</td>\n",
       "      <td>0</td>\n",
       "      <td>0.421157</td>\n",
       "    </tr>\n",
       "    <tr>\n",
       "      <th>2</th>\n",
       "      <td>1</td>\n",
       "      <td>0</td>\n",
       "      <td>0.564178</td>\n",
       "    </tr>\n",
       "    <tr>\n",
       "      <th>3</th>\n",
       "      <td>1</td>\n",
       "      <td>0</td>\n",
       "      <td>0.466127</td>\n",
       "    </tr>\n",
       "    <tr>\n",
       "      <th>4</th>\n",
       "      <td>1</td>\n",
       "      <td>0</td>\n",
       "      <td>0.479881</td>\n",
       "    </tr>\n",
       "    <tr>\n",
       "      <th>...</th>\n",
       "      <td>...</td>\n",
       "      <td>...</td>\n",
       "      <td>...</td>\n",
       "    </tr>\n",
       "    <tr>\n",
       "      <th>3231</th>\n",
       "      <td>0</td>\n",
       "      <td>0</td>\n",
       "      <td>0.036624</td>\n",
       "    </tr>\n",
       "    <tr>\n",
       "      <th>3232</th>\n",
       "      <td>0</td>\n",
       "      <td>0</td>\n",
       "      <td>0.072731</td>\n",
       "    </tr>\n",
       "    <tr>\n",
       "      <th>3233</th>\n",
       "      <td>0</td>\n",
       "      <td>0</td>\n",
       "      <td>0.020095</td>\n",
       "    </tr>\n",
       "    <tr>\n",
       "      <th>3234</th>\n",
       "      <td>0</td>\n",
       "      <td>0</td>\n",
       "      <td>0.025047</td>\n",
       "    </tr>\n",
       "    <tr>\n",
       "      <th>3235</th>\n",
       "      <td>0</td>\n",
       "      <td>0</td>\n",
       "      <td>0.052813</td>\n",
       "    </tr>\n",
       "  </tbody>\n",
       "</table>\n",
       "<p>3236 rows × 3 columns</p>\n",
       "</div>"
      ],
      "text/plain": [
       "      sofa3m  0         0\n",
       "0          1  0  0.534683\n",
       "1          1  0  0.421157\n",
       "2          1  0  0.564178\n",
       "3          1  0  0.466127\n",
       "4          1  0  0.479881\n",
       "...      ... ..       ...\n",
       "3231       0  0  0.036624\n",
       "3232       0  0  0.072731\n",
       "3233       0  0  0.020095\n",
       "3234       0  0  0.025047\n",
       "3235       0  0  0.052813\n",
       "\n",
       "[3236 rows x 3 columns]"
      ]
     },
     "execution_count": 37,
     "metadata": {},
     "output_type": "execute_result"
    }
   ],
   "source": [
    "train_result= pd.concat([train_y, classes_train_pred,yhat_probs_train], axis=1)\n",
    "train_result"
   ]
  },
  {
   "cell_type": "code",
   "execution_count": 38,
   "id": "16fa24ee",
   "metadata": {},
   "outputs": [],
   "source": [
    "train_result.columns =  ['sofa3m', 'class_pred', 'prob_pred']"
   ]
  },
  {
   "cell_type": "code",
   "execution_count": 39,
   "id": "2b2ffb27",
   "metadata": {},
   "outputs": [],
   "source": [
    "train_result.to_csv('dnn for spesis3 in cgmh train result ver2 20230222.csv')"
   ]
  },
  {
   "cell_type": "code",
   "execution_count": 40,
   "id": "60781051",
   "metadata": {},
   "outputs": [],
   "source": [
    "test_y = pd.DataFrame(test_y)\n",
    "classes_test_pred = pd.DataFrame(classes_test_pred)\n",
    "yhat_probs_test = pd.DataFrame(yhat_probs_test)"
   ]
  },
  {
   "cell_type": "code",
   "execution_count": 41,
   "id": "20ebf8d4",
   "metadata": {},
   "outputs": [
    {
     "data": {
      "text/html": [
       "<div>\n",
       "<style scoped>\n",
       "    .dataframe tbody tr th:only-of-type {\n",
       "        vertical-align: middle;\n",
       "    }\n",
       "\n",
       "    .dataframe tbody tr th {\n",
       "        vertical-align: top;\n",
       "    }\n",
       "\n",
       "    .dataframe thead th {\n",
       "        text-align: right;\n",
       "    }\n",
       "</style>\n",
       "<table border=\"1\" class=\"dataframe\">\n",
       "  <thead>\n",
       "    <tr style=\"text-align: right;\">\n",
       "      <th></th>\n",
       "      <th>0</th>\n",
       "      <th>0</th>\n",
       "      <th>0</th>\n",
       "    </tr>\n",
       "  </thead>\n",
       "  <tbody>\n",
       "    <tr>\n",
       "      <th>0</th>\n",
       "      <td>0</td>\n",
       "      <td>0</td>\n",
       "      <td>0.686474</td>\n",
       "    </tr>\n",
       "    <tr>\n",
       "      <th>1</th>\n",
       "      <td>0</td>\n",
       "      <td>0</td>\n",
       "      <td>0.406283</td>\n",
       "    </tr>\n",
       "    <tr>\n",
       "      <th>2</th>\n",
       "      <td>0</td>\n",
       "      <td>0</td>\n",
       "      <td>0.486918</td>\n",
       "    </tr>\n",
       "    <tr>\n",
       "      <th>3</th>\n",
       "      <td>0</td>\n",
       "      <td>0</td>\n",
       "      <td>0.141734</td>\n",
       "    </tr>\n",
       "    <tr>\n",
       "      <th>4</th>\n",
       "      <td>0</td>\n",
       "      <td>0</td>\n",
       "      <td>0.621880</td>\n",
       "    </tr>\n",
       "    <tr>\n",
       "      <th>...</th>\n",
       "      <td>...</td>\n",
       "      <td>...</td>\n",
       "      <td>...</td>\n",
       "    </tr>\n",
       "    <tr>\n",
       "      <th>1073</th>\n",
       "      <td>0</td>\n",
       "      <td>0</td>\n",
       "      <td>0.062839</td>\n",
       "    </tr>\n",
       "    <tr>\n",
       "      <th>1074</th>\n",
       "      <td>0</td>\n",
       "      <td>0</td>\n",
       "      <td>0.602479</td>\n",
       "    </tr>\n",
       "    <tr>\n",
       "      <th>1075</th>\n",
       "      <td>0</td>\n",
       "      <td>0</td>\n",
       "      <td>0.109361</td>\n",
       "    </tr>\n",
       "    <tr>\n",
       "      <th>1076</th>\n",
       "      <td>0</td>\n",
       "      <td>0</td>\n",
       "      <td>0.133485</td>\n",
       "    </tr>\n",
       "    <tr>\n",
       "      <th>1077</th>\n",
       "      <td>0</td>\n",
       "      <td>0</td>\n",
       "      <td>0.532054</td>\n",
       "    </tr>\n",
       "  </tbody>\n",
       "</table>\n",
       "<p>1078 rows × 3 columns</p>\n",
       "</div>"
      ],
      "text/plain": [
       "      0  0         0\n",
       "0     0  0  0.686474\n",
       "1     0  0  0.406283\n",
       "2     0  0  0.486918\n",
       "3     0  0  0.141734\n",
       "4     0  0  0.621880\n",
       "...  .. ..       ...\n",
       "1073  0  0  0.062839\n",
       "1074  0  0  0.602479\n",
       "1075  0  0  0.109361\n",
       "1076  0  0  0.133485\n",
       "1077  0  0  0.532054\n",
       "\n",
       "[1078 rows x 3 columns]"
      ]
     },
     "execution_count": 41,
     "metadata": {},
     "output_type": "execute_result"
    }
   ],
   "source": [
    "test_result= pd.concat([classes_test_pred, classes_test_pred,yhat_probs_test], axis=1)\n",
    "test_result"
   ]
  },
  {
   "cell_type": "code",
   "execution_count": 42,
   "id": "ef58fbe7",
   "metadata": {},
   "outputs": [],
   "source": [
    "test_result.columns =  ['sofa3m', 'class_pred', 'prob_pred']"
   ]
  },
  {
   "cell_type": "code",
   "execution_count": 43,
   "id": "19c1a254",
   "metadata": {},
   "outputs": [],
   "source": [
    "test_result.to_csv('dnn for spesis3 in cgmh test result ver2 20230222.csv')"
   ]
  },
  {
   "cell_type": "code",
   "execution_count": 45,
   "id": "cbed8a8d",
   "metadata": {},
   "outputs": [],
   "source": [
    "from utils.visualize import visualize"
   ]
  },
  {
   "cell_type": "code",
   "execution_count": 46,
   "id": "4c27596d",
   "metadata": {},
   "outputs": [
    {
     "name": "stdout",
     "output_type": "stream",
     "text": [
      "(1078, 1)\n",
      "WARNING:tensorflow:From C:\\Users\\PEK\\utils\\visualize.py:37: Sequential.predict_classes (from tensorflow.python.keras.engine.sequential) is deprecated and will be removed after 2021-01-01.\n",
      "Instructions for updating:\n",
      "Please use instead:* `np.argmax(model.predict(x), axis=-1)`,   if your model does multi-class classification   (e.g. if it uses a `softmax` last-layer activation).* `(model.predict(x) > 0.5).astype(\"int32\")`,   if your model does binary classification   (e.g. if it uses a `sigmoid` last-layer activation).\n",
      "=== Accuracy ===\n",
      "Accuracy (train): 0.908838\n",
      "Accuracy (test): 0.902597\n",
      "\n",
      "\n",
      "=== Precision ===\n",
      "Precision (train): 0.724280\n",
      "Precision (test): 0.666667\n",
      "\n",
      "\n",
      "=== Recall ===\n",
      "Recall (train): 0.435644\n",
      "Recall (test): 0.432836\n",
      "\n",
      "\n",
      "=== F1 score ===\n",
      "F1 score (train): 0.544049\n",
      "F1 score (test): 0.524887\n",
      "\n",
      "\n",
      "=== Cohens Kappa ===\n",
      "Cohens kappa (train): 0.496866\n",
      "Cohens kappa (test): 0.473344\n",
      "\n",
      "\n",
      "=== ROC AUC ===\n",
      "ROC AUC for training dataset: 0.881185\n",
      "ROC AUC for testing dataset: 0.886676\n",
      "\n",
      "\n",
      "=== Confusion matrix for train datset ===\n",
      "[[2765   67]\n",
      " [ 228  176]]\n",
      "\n",
      "\n",
      "=== Confusion matrix for test datset ===\n",
      "[[915  29]\n",
      " [ 76  58]]\n"
     ]
    },
    {
     "data": {
      "image/png": "[encoded data removed]",
      "text/plain": [
       "<Figure size 432x288 with 1 Axes>"
      ]
     },
     "metadata": {
      "needs_background": "light"
     },
     "output_type": "display_data"
    }
   ],
   "source": [
    "yhat_probs_train = model_best.predict(train_x, verbose=0)\n",
    "yhat_probs_test = model_best.predict(test_x, verbose=0)\n",
    "print(yhat_probs_test.shape)\n",
    "yhat_classes_train,yhat_classes_test=visualize(yhat_probs_train,yhat_probs_test,model_best,train_x,train_y,test_x,test_y)"
   ]
  }
 ],
 "metadata": {
  "kernelspec": {
   "display_name": "Python 3",
   "language": "python",
   "name": "python3"
  },
  "language_info": {
   "codemirror_mode": {
    "name": "ipython",
    "version": 3
   },
   "file_extension": ".py",
   "mimetype": "text/x-python",
   "name": "python",
   "nbconvert_exporter": "python",
   "pygments_lexer": "ipython3",
   "version": "3.6.8"
  }
 },
 "nbformat": 4,
 "nbformat_minor": 5
}
