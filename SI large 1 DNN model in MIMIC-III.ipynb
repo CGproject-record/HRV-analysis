{
 "cells": [
  {
   "cell_type": "code",
   "execution_count": 1,
   "id": "a3fbcd77",
   "metadata": {},
   "outputs": [],
   "source": [
    "import keras,pandas as pd,os\n",
    "import tensorflow as tf\n",
    "from sklearn.metrics import roc_auc_score\n",
    "from keras.models import Sequential\n",
    "from keras.layers import Dense,Activation,Dropout\n",
    "from tensorflow.keras.layers import BatchNormalization\n",
    "from keras.callbacks import Callback, EarlyStopping\n",
    "from tensorflow.keras import regularizers\n",
    "from tensorflow.keras.optimizers import SGD,Adamax,RMSprop,Adam,Nadam"
   ]
  },
  {
   "cell_type": "code",
   "execution_count": 2,
   "id": "e9cd285f",
   "metadata": {},
   "outputs": [
    {
     "name": "stdout",
     "output_type": "stream",
     "text": [
      "10\n",
      "(231253,)\n",
      "(231253, 10)\n"
     ]
    }
   ],
   "source": [
    "\n",
    "S_1=pd.read_csv('Siover1_rf_top10_mimic_data.csv')\n",
    "\n",
    "\n",
    "data_shape = S_1.shape\n",
    "\n",
    "Siov1_x=S_1.iloc[:,1:data_shape[1]]\n",
    "Siov1_y=S_1['si1m']\n",
    "\n",
    "print(Siov1_x.shape[1])\n",
    "print(Siov1_y.shape)\n",
    "print(Siov1_x.shape)"
   ]
  },
  {
   "cell_type": "code",
   "execution_count": 3,
   "id": "2361209d",
   "metadata": {},
   "outputs": [],
   "source": [
    "\n",
    "from sklearn.model_selection import train_test_split\n",
    "from utils.dataloader import normalized\n"
   ]
  },
  {
   "cell_type": "code",
   "execution_count": 4,
   "id": "1fd1d03a",
   "metadata": {},
   "outputs": [
    {
     "data": {
      "text/plain": [
       "(231253, 10)"
      ]
     },
     "execution_count": 4,
     "metadata": {},
     "output_type": "execute_result"
    }
   ],
   "source": [
    "Siov1_x.shape"
   ]
  },
  {
   "cell_type": "code",
   "execution_count": 5,
   "id": "6c332442",
   "metadata": {},
   "outputs": [],
   "source": [
    "S_3_test=pd.read_csv('Siover1_rf_top10_mimic_data_test.csv')\n",
    "S_3_train=pd.read_csv('Siover1_rf_top10_mimic_data_train.csv')\n"
   ]
  },
  {
   "cell_type": "code",
   "execution_count": 8,
   "id": "05d73d73",
   "metadata": {},
   "outputs": [
    {
     "data": {
      "text/plain": [
       "(57812, 11)"
      ]
     },
     "execution_count": 8,
     "metadata": {},
     "output_type": "execute_result"
    }
   ],
   "source": [
    "S_3_test.shape\n"
   ]
  },
  {
   "cell_type": "code",
   "execution_count": 9,
   "id": "476d913e",
   "metadata": {},
   "outputs": [
    {
     "data": {
      "text/plain": [
       "(173441, 11)"
      ]
     },
     "execution_count": 9,
     "metadata": {},
     "output_type": "execute_result"
    }
   ],
   "source": [
    "S_3_train.shape"
   ]
  },
  {
   "cell_type": "code",
   "execution_count": 10,
   "id": "26aeb033",
   "metadata": {},
   "outputs": [
    {
     "data": {
      "text/plain": [
       "(57812, 10)"
      ]
     },
     "execution_count": 10,
     "metadata": {},
     "output_type": "execute_result"
    }
   ],
   "source": [
    "test_x = S_3_test.iloc[:,1:data_shape[0]]\n",
    "test_x.shape"
   ]
  },
  {
   "cell_type": "code",
   "execution_count": 11,
   "id": "d05172db",
   "metadata": {},
   "outputs": [
    {
     "data": {
      "text/plain": [
       "(173441, 10)"
      ]
     },
     "execution_count": 11,
     "metadata": {},
     "output_type": "execute_result"
    }
   ],
   "source": [
    "train_x = S_3_train.iloc[:,1:data_shape[0]]\n",
    "train_x.shape"
   ]
  },
  {
   "cell_type": "code",
   "execution_count": 12,
   "id": "7b210814",
   "metadata": {},
   "outputs": [],
   "source": [
    "test_y=S_3_test['si1m']\n",
    "train_y=S_3_train['si1m']"
   ]
  },
  {
   "cell_type": "code",
   "execution_count": 13,
   "id": "bf3592bc",
   "metadata": {},
   "outputs": [
    {
     "data": {
      "text/plain": [
       "0        1\n",
       "1        1\n",
       "2        1\n",
       "3        1\n",
       "4        1\n",
       "        ..\n",
       "57807    0\n",
       "57808    0\n",
       "57809    0\n",
       "57810    0\n",
       "57811    0\n",
       "Name: si1m, Length: 57812, dtype: int64"
      ]
     },
     "execution_count": 13,
     "metadata": {},
     "output_type": "execute_result"
    }
   ],
   "source": [
    "test_y"
   ]
  },
  {
   "cell_type": "code",
   "execution_count": 14,
   "id": "6d283d95",
   "metadata": {},
   "outputs": [
    {
     "name": "stdout",
     "output_type": "stream",
     "text": [
      "(173441,)\n",
      "(173441, 10)\n",
      "(57812,)\n",
      "(57812, 10)\n",
      "7014\n"
     ]
    }
   ],
   "source": [
    "\n",
    "\n",
    "print(train_y.shape)\n",
    "print(train_x.shape)\n",
    "print(test_y.shape)\n",
    "print(test_x.shape)\n",
    "print(sum(test_y))"
   ]
  },
  {
   "cell_type": "code",
   "execution_count": 15,
   "id": "ac895c07",
   "metadata": {},
   "outputs": [],
   "source": [
    "def auroc(y_true, y_pred):\n",
    "    return tf.py_function(roc_auc_score, (y_true, y_pred), tf.double)"
   ]
  },
  {
   "cell_type": "code",
   "execution_count": 17,
   "id": "f037de84",
   "metadata": {},
   "outputs": [],
   "source": [
    "from utils.model import best_model\n"
   ]
  },
  {
   "cell_type": "code",
   "execution_count": 21,
   "id": "b3461240",
   "metadata": {
    "scrolled": false
   },
   "outputs": [
    {
     "name": "stdout",
     "output_type": "stream",
     "text": [
      "Epoch 1/300\n",
      "781/781 [==============================] - 1s 1ms/step - loss: 0.4957 - accuracy: 0.8488 - val_loss: 0.4560 - val_accuracy: 0.9051\n",
      "Epoch 2/300\n",
      "781/781 [==============================] - 1s 1ms/step - loss: 0.4777 - accuracy: 0.8533 - val_loss: 0.4403 - val_accuracy: 0.9079\n",
      "Epoch 3/300\n",
      "781/781 [==============================] - 1s 1ms/step - loss: 0.4703 - accuracy: 0.8549 - val_loss: 0.4337 - val_accuracy: 0.9108\n",
      "Epoch 4/300\n",
      "781/781 [==============================] - 1s 1ms/step - loss: 0.4658 - accuracy: 0.8562 - val_loss: 0.4277 - val_accuracy: 0.9114\n",
      "Epoch 5/300\n",
      "781/781 [==============================] - 1s 1ms/step - loss: 0.4639 - accuracy: 0.8561 - val_loss: 0.4250 - val_accuracy: 0.9121\n",
      "Epoch 6/300\n",
      "781/781 [==============================] - 1s 1ms/step - loss: 0.4613 - accuracy: 0.8560 - val_loss: 0.4231 - val_accuracy: 0.9114\n",
      "Epoch 7/300\n",
      "781/781 [==============================] - 1s 1ms/step - loss: 0.4605 - accuracy: 0.8566 - val_loss: 0.4208 - val_accuracy: 0.9138\n",
      "Epoch 8/300\n",
      "781/781 [==============================] - 1s 1ms/step - loss: 0.4569 - accuracy: 0.8573 - val_loss: 0.4190 - val_accuracy: 0.9119\n",
      "Epoch 9/300\n",
      "781/781 [==============================] - 1s 1ms/step - loss: 0.4549 - accuracy: 0.8580 - val_loss: 0.4176 - val_accuracy: 0.9096\n",
      "Epoch 10/300\n",
      "781/781 [==============================] - 1s 1ms/step - loss: 0.4540 - accuracy: 0.8585 - val_loss: 0.4170 - val_accuracy: 0.9124\n",
      "Epoch 11/300\n",
      "781/781 [==============================] - 1s 1ms/step - loss: 0.4535 - accuracy: 0.8580 - val_loss: 0.4145 - val_accuracy: 0.9139\n",
      "Epoch 12/300\n",
      "781/781 [==============================] - 1s 1ms/step - loss: 0.4532 - accuracy: 0.8586 - val_loss: 0.4127 - val_accuracy: 0.9150\n",
      "Epoch 13/300\n",
      "781/781 [==============================] - 1s 1ms/step - loss: 0.4515 - accuracy: 0.8582 - val_loss: 0.4122 - val_accuracy: 0.9137\n",
      "Epoch 14/300\n",
      "781/781 [==============================] - 1s 1ms/step - loss: 0.4499 - accuracy: 0.8584 - val_loss: 0.4125 - val_accuracy: 0.9106\n",
      "Epoch 15/300\n",
      "781/781 [==============================] - 1s 1ms/step - loss: 0.4505 - accuracy: 0.8575 - val_loss: 0.4113 - val_accuracy: 0.9123\n",
      "Epoch 16/300\n",
      "781/781 [==============================] - 1s 1ms/step - loss: 0.4497 - accuracy: 0.8586 - val_loss: 0.4105 - val_accuracy: 0.9140\n",
      "Epoch 17/300\n",
      "781/781 [==============================] - 1s 1ms/step - loss: 0.4494 - accuracy: 0.8583 - val_loss: 0.4082 - val_accuracy: 0.9154\n",
      "Epoch 18/300\n",
      "781/781 [==============================] - 1s 1ms/step - loss: 0.4485 - accuracy: 0.8583 - val_loss: 0.4079 - val_accuracy: 0.9135\n",
      "Epoch 19/300\n",
      "781/781 [==============================] - 1s 1ms/step - loss: 0.4471 - accuracy: 0.8595 - val_loss: 0.4068 - val_accuracy: 0.9163\n",
      "Epoch 20/300\n",
      "781/781 [==============================] - 1s 1ms/step - loss: 0.4461 - accuracy: 0.8586 - val_loss: 0.4069 - val_accuracy: 0.9138\n",
      "Epoch 21/300\n",
      "781/781 [==============================] - 1s 1ms/step - loss: 0.4466 - accuracy: 0.8582 - val_loss: 0.4042 - val_accuracy: 0.9165\n",
      "Epoch 22/300\n",
      "781/781 [==============================] - 1s 1ms/step - loss: 0.4458 - accuracy: 0.8591 - val_loss: 0.4055 - val_accuracy: 0.9138\n",
      "Epoch 23/300\n",
      "781/781 [==============================] - 1s 1ms/step - loss: 0.4456 - accuracy: 0.8597 - val_loss: 0.4037 - val_accuracy: 0.9152\n",
      "Epoch 24/300\n",
      "781/781 [==============================] - 1s 1ms/step - loss: 0.4447 - accuracy: 0.8599 - val_loss: 0.4021 - val_accuracy: 0.9179\n",
      "Epoch 25/300\n",
      "781/781 [==============================] - 1s 1ms/step - loss: 0.4439 - accuracy: 0.8588 - val_loss: 0.4049 - val_accuracy: 0.9138\n",
      "Epoch 26/300\n",
      "781/781 [==============================] - 1s 1ms/step - loss: 0.4446 - accuracy: 0.8600 - val_loss: 0.4039 - val_accuracy: 0.9146\n",
      "Epoch 27/300\n",
      "781/781 [==============================] - 1s 1ms/step - loss: 0.4444 - accuracy: 0.8591 - val_loss: 0.4032 - val_accuracy: 0.9127\n",
      "Epoch 28/300\n",
      "781/781 [==============================] - 1s 1ms/step - loss: 0.4438 - accuracy: 0.8594 - val_loss: 0.4025 - val_accuracy: 0.9150\n",
      "Epoch 29/300\n",
      "781/781 [==============================] - 1s 1ms/step - loss: 0.4425 - accuracy: 0.8593 - val_loss: 0.4016 - val_accuracy: 0.9145\n",
      "Epoch 30/300\n",
      "781/781 [==============================] - 1s 1ms/step - loss: 0.4425 - accuracy: 0.8588 - val_loss: 0.4019 - val_accuracy: 0.9153\n",
      "Epoch 31/300\n",
      "781/781 [==============================] - 1s 1ms/step - loss: 0.4419 - accuracy: 0.8597 - val_loss: 0.3989 - val_accuracy: 0.9175\n",
      "Epoch 32/300\n",
      "781/781 [==============================] - 1s 1ms/step - loss: 0.4416 - accuracy: 0.8595 - val_loss: 0.4007 - val_accuracy: 0.9152\n",
      "Epoch 33/300\n",
      "781/781 [==============================] - 1s 1ms/step - loss: 0.4413 - accuracy: 0.8597 - val_loss: 0.4011 - val_accuracy: 0.9145\n",
      "Epoch 34/300\n",
      "781/781 [==============================] - 1s 1ms/step - loss: 0.4421 - accuracy: 0.8590 - val_loss: 0.4019 - val_accuracy: 0.9120\n",
      "Epoch 35/300\n",
      "781/781 [==============================] - 1s 1ms/step - loss: 0.4405 - accuracy: 0.8600 - val_loss: 0.3990 - val_accuracy: 0.9161\n",
      "Epoch 36/300\n",
      "781/781 [==============================] - 1s 1ms/step - loss: 0.4402 - accuracy: 0.8599 - val_loss: 0.3972 - val_accuracy: 0.9182\n",
      "Epoch 37/300\n",
      "781/781 [==============================] - 1s 1ms/step - loss: 0.4399 - accuracy: 0.8599 - val_loss: 0.3992 - val_accuracy: 0.9140\n",
      "Epoch 38/300\n",
      "781/781 [==============================] - 1s 1ms/step - loss: 0.4393 - accuracy: 0.8596 - val_loss: 0.3974 - val_accuracy: 0.9162\n",
      "Epoch 39/300\n",
      "781/781 [==============================] - 1s 1ms/step - loss: 0.4393 - accuracy: 0.8597 - val_loss: 0.3967 - val_accuracy: 0.9189\n",
      "Epoch 40/300\n",
      "781/781 [==============================] - 1s 1ms/step - loss: 0.4390 - accuracy: 0.8613 - val_loss: 0.3981 - val_accuracy: 0.9150\n",
      "Epoch 41/300\n",
      "781/781 [==============================] - 1s 1ms/step - loss: 0.4384 - accuracy: 0.8609 - val_loss: 0.3960 - val_accuracy: 0.9173\n",
      "Epoch 42/300\n",
      "781/781 [==============================] - 1s 1ms/step - loss: 0.4384 - accuracy: 0.8603 - val_loss: 0.3960 - val_accuracy: 0.9180\n",
      "Epoch 43/300\n",
      "781/781 [==============================] - 1s 1ms/step - loss: 0.4389 - accuracy: 0.8606 - val_loss: 0.3967 - val_accuracy: 0.9158\n",
      "Epoch 44/300\n",
      "781/781 [==============================] - 1s 1ms/step - loss: 0.4383 - accuracy: 0.8602 - val_loss: 0.3965 - val_accuracy: 0.9156\n",
      "Epoch 45/300\n",
      "781/781 [==============================] - 1s 1ms/step - loss: 0.4385 - accuracy: 0.8597 - val_loss: 0.3963 - val_accuracy: 0.9163\n",
      "Epoch 46/300\n",
      "781/781 [==============================] - 1s 1ms/step - loss: 0.4390 - accuracy: 0.8598 - val_loss: 0.3953 - val_accuracy: 0.9159\n",
      "Epoch 47/300\n",
      "781/781 [==============================] - 1s 1ms/step - loss: 0.4380 - accuracy: 0.8604 - val_loss: 0.3956 - val_accuracy: 0.9173\n",
      "Epoch 48/300\n",
      "781/781 [==============================] - 1s 1ms/step - loss: 0.4373 - accuracy: 0.8604 - val_loss: 0.3957 - val_accuracy: 0.9160\n",
      "Epoch 49/300\n",
      "781/781 [==============================] - 1s 1ms/step - loss: 0.4386 - accuracy: 0.8601 - val_loss: 0.3937 - val_accuracy: 0.9180\n",
      "Epoch 50/300\n",
      "781/781 [==============================] - 1s 1ms/step - loss: 0.4366 - accuracy: 0.8603 - val_loss: 0.3951 - val_accuracy: 0.9162\n",
      "Epoch 51/300\n",
      "781/781 [==============================] - 1s 1ms/step - loss: 0.4365 - accuracy: 0.8603 - val_loss: 0.3943 - val_accuracy: 0.9172\n",
      "Epoch 52/300\n",
      "781/781 [==============================] - 1s 1ms/step - loss: 0.4364 - accuracy: 0.8601 - val_loss: 0.3932 - val_accuracy: 0.9178\n",
      "Epoch 53/300\n",
      "781/781 [==============================] - 1s 1ms/step - loss: 0.4362 - accuracy: 0.8603 - val_loss: 0.3927 - val_accuracy: 0.9183\n",
      "Epoch 54/300\n",
      "781/781 [==============================] - 1s 1ms/step - loss: 0.4363 - accuracy: 0.8605 - val_loss: 0.3955 - val_accuracy: 0.9145\n",
      "Epoch 55/300\n",
      "781/781 [==============================] - 1s 1ms/step - loss: 0.4357 - accuracy: 0.8614 - val_loss: 0.3924 - val_accuracy: 0.9164\n",
      "Epoch 56/300\n",
      "781/781 [==============================] - 1s 1ms/step - loss: 0.4354 - accuracy: 0.8608 - val_loss: 0.3934 - val_accuracy: 0.9177\n",
      "Epoch 57/300\n",
      "781/781 [==============================] - 1s 1ms/step - loss: 0.4361 - accuracy: 0.8605 - val_loss: 0.3921 - val_accuracy: 0.9184\n"
     ]
    },
    {
     "name": "stdout",
     "output_type": "stream",
     "text": [
      "Epoch 58/300\n",
      "781/781 [==============================] - 1s 1ms/step - loss: 0.4360 - accuracy: 0.8602 - val_loss: 0.3953 - val_accuracy: 0.9135\n",
      "Epoch 59/300\n",
      "781/781 [==============================] - 1s 1ms/step - loss: 0.4364 - accuracy: 0.8604 - val_loss: 0.3925 - val_accuracy: 0.9177\n",
      "Epoch 60/300\n",
      "781/781 [==============================] - 1s 1ms/step - loss: 0.4357 - accuracy: 0.8611 - val_loss: 0.3930 - val_accuracy: 0.9173\n",
      "Epoch 61/300\n",
      "781/781 [==============================] - 1s 1ms/step - loss: 0.4352 - accuracy: 0.8605 - val_loss: 0.3927 - val_accuracy: 0.9178\n",
      "Epoch 62/300\n",
      "781/781 [==============================] - 1s 1ms/step - loss: 0.4349 - accuracy: 0.8606 - val_loss: 0.3906 - val_accuracy: 0.9195\n",
      "Epoch 63/300\n",
      "781/781 [==============================] - 1s 1ms/step - loss: 0.4343 - accuracy: 0.8610 - val_loss: 0.3928 - val_accuracy: 0.9189\n",
      "Epoch 64/300\n",
      "781/781 [==============================] - 1s 1ms/step - loss: 0.4354 - accuracy: 0.8607 - val_loss: 0.3923 - val_accuracy: 0.9189\n",
      "Epoch 65/300\n",
      "781/781 [==============================] - 1s 1ms/step - loss: 0.4347 - accuracy: 0.8600 - val_loss: 0.3896 - val_accuracy: 0.9194\n",
      "Epoch 66/300\n",
      "781/781 [==============================] - 1s 1ms/step - loss: 0.4346 - accuracy: 0.8613 - val_loss: 0.3917 - val_accuracy: 0.9189\n",
      "Epoch 67/300\n",
      "781/781 [==============================] - 1s 1ms/step - loss: 0.4345 - accuracy: 0.8602 - val_loss: 0.3914 - val_accuracy: 0.9179\n",
      "Epoch 68/300\n",
      "781/781 [==============================] - 1s 1ms/step - loss: 0.4350 - accuracy: 0.8601 - val_loss: 0.3898 - val_accuracy: 0.9207\n",
      "Epoch 69/300\n",
      "781/781 [==============================] - 1s 1ms/step - loss: 0.4340 - accuracy: 0.8612 - val_loss: 0.3919 - val_accuracy: 0.9170\n",
      "Epoch 70/300\n",
      "781/781 [==============================] - 1s 1ms/step - loss: 0.4340 - accuracy: 0.8612 - val_loss: 0.3894 - val_accuracy: 0.9197\n",
      "Epoch 71/300\n",
      "781/781 [==============================] - 1s 1ms/step - loss: 0.4332 - accuracy: 0.8612 - val_loss: 0.3900 - val_accuracy: 0.9183\n",
      "Epoch 72/300\n",
      "781/781 [==============================] - 1s 1ms/step - loss: 0.4330 - accuracy: 0.8608 - val_loss: 0.3878 - val_accuracy: 0.9222\n",
      "Epoch 73/300\n",
      "781/781 [==============================] - 1s 1ms/step - loss: 0.4333 - accuracy: 0.8612 - val_loss: 0.3908 - val_accuracy: 0.9178\n",
      "Epoch 74/300\n",
      "781/781 [==============================] - 1s 1ms/step - loss: 0.4333 - accuracy: 0.8605 - val_loss: 0.3890 - val_accuracy: 0.9190\n",
      "Epoch 75/300\n",
      "781/781 [==============================] - 1s 1ms/step - loss: 0.4332 - accuracy: 0.8605 - val_loss: 0.3885 - val_accuracy: 0.9204\n",
      "Epoch 76/300\n",
      "781/781 [==============================] - 1s 1ms/step - loss: 0.4337 - accuracy: 0.8607 - val_loss: 0.3907 - val_accuracy: 0.9179\n",
      "Epoch 77/300\n",
      "781/781 [==============================] - 1s 1ms/step - loss: 0.4327 - accuracy: 0.8614 - val_loss: 0.3882 - val_accuracy: 0.9204\n",
      "Epoch 78/300\n",
      "781/781 [==============================] - 1s 1ms/step - loss: 0.4315 - accuracy: 0.8614 - val_loss: 0.3880 - val_accuracy: 0.9188\n",
      "Epoch 79/300\n",
      "781/781 [==============================] - 1s 1ms/step - loss: 0.4326 - accuracy: 0.8611 - val_loss: 0.3878 - val_accuracy: 0.9202\n",
      "Epoch 80/300\n",
      "781/781 [==============================] - 1s 1ms/step - loss: 0.4334 - accuracy: 0.8610 - val_loss: 0.3905 - val_accuracy: 0.9166\n",
      "Epoch 81/300\n",
      "781/781 [==============================] - 1s 1ms/step - loss: 0.4322 - accuracy: 0.8609 - val_loss: 0.3897 - val_accuracy: 0.9192\n",
      "Epoch 82/300\n",
      "781/781 [==============================] - 1s 1ms/step - loss: 0.4330 - accuracy: 0.8601 - val_loss: 0.3871 - val_accuracy: 0.9206\n",
      "Epoch 83/300\n",
      "781/781 [==============================] - 1s 1ms/step - loss: 0.4322 - accuracy: 0.8616 - val_loss: 0.3878 - val_accuracy: 0.9198\n",
      "Epoch 84/300\n",
      "781/781 [==============================] - 1s 1ms/step - loss: 0.4332 - accuracy: 0.8607 - val_loss: 0.3882 - val_accuracy: 0.9188\n",
      "Epoch 85/300\n",
      "781/781 [==============================] - 1s 1ms/step - loss: 0.4319 - accuracy: 0.8610 - val_loss: 0.3880 - val_accuracy: 0.9203\n",
      "Epoch 86/300\n",
      "781/781 [==============================] - 1s 1ms/step - loss: 0.4317 - accuracy: 0.8619 - val_loss: 0.3862 - val_accuracy: 0.9214\n",
      "Epoch 87/300\n",
      "781/781 [==============================] - 1s 1ms/step - loss: 0.4317 - accuracy: 0.8612 - val_loss: 0.3889 - val_accuracy: 0.9179\n",
      "Epoch 88/300\n",
      "781/781 [==============================] - 1s 1ms/step - loss: 0.4310 - accuracy: 0.8613 - val_loss: 0.3863 - val_accuracy: 0.9208\n",
      "Epoch 89/300\n",
      "781/781 [==============================] - 1s 1ms/step - loss: 0.4328 - accuracy: 0.8599 - val_loss: 0.3871 - val_accuracy: 0.9215\n",
      "Epoch 90/300\n",
      "781/781 [==============================] - 1s 1ms/step - loss: 0.4317 - accuracy: 0.8614 - val_loss: 0.3886 - val_accuracy: 0.9191\n",
      "Epoch 91/300\n",
      "781/781 [==============================] - 1s 1ms/step - loss: 0.4310 - accuracy: 0.8613 - val_loss: 0.3884 - val_accuracy: 0.9184\n",
      "Epoch 92/300\n",
      "781/781 [==============================] - 1s 1ms/step - loss: 0.4311 - accuracy: 0.8615 - val_loss: 0.3884 - val_accuracy: 0.9184\n",
      "Epoch 93/300\n",
      "781/781 [==============================] - 1s 1ms/step - loss: 0.4310 - accuracy: 0.8600 - val_loss: 0.3857 - val_accuracy: 0.9212\n",
      "Epoch 94/300\n",
      "781/781 [==============================] - 1s 1ms/step - loss: 0.4312 - accuracy: 0.8604 - val_loss: 0.3878 - val_accuracy: 0.9185\n",
      "Epoch 95/300\n",
      "781/781 [==============================] - 1s 1ms/step - loss: 0.4312 - accuracy: 0.8603 - val_loss: 0.3857 - val_accuracy: 0.9214\n",
      "Epoch 96/300\n",
      "781/781 [==============================] - 1s 1ms/step - loss: 0.4311 - accuracy: 0.8614 - val_loss: 0.3873 - val_accuracy: 0.9206\n",
      "Epoch 97/300\n",
      "781/781 [==============================] - 1s 1ms/step - loss: 0.4303 - accuracy: 0.8616 - val_loss: 0.3856 - val_accuracy: 0.9216\n",
      "Epoch 98/300\n",
      "781/781 [==============================] - 1s 1ms/step - loss: 0.4316 - accuracy: 0.8611 - val_loss: 0.3872 - val_accuracy: 0.9187\n",
      "Epoch 99/300\n",
      "781/781 [==============================] - 1s 1ms/step - loss: 0.4312 - accuracy: 0.8603 - val_loss: 0.3870 - val_accuracy: 0.9183\n",
      "Epoch 100/300\n",
      "781/781 [==============================] - 1s 1ms/step - loss: 0.4296 - accuracy: 0.8617 - val_loss: 0.3867 - val_accuracy: 0.9196\n",
      "Epoch 101/300\n",
      "781/781 [==============================] - 1s 1ms/step - loss: 0.4308 - accuracy: 0.8604 - val_loss: 0.3843 - val_accuracy: 0.9223\n",
      "Epoch 102/300\n",
      "781/781 [==============================] - 1s 1ms/step - loss: 0.4310 - accuracy: 0.8612 - val_loss: 0.3851 - val_accuracy: 0.9204\n",
      "Epoch 103/300\n",
      "781/781 [==============================] - 1s 1ms/step - loss: 0.4302 - accuracy: 0.8608 - val_loss: 0.3881 - val_accuracy: 0.9189\n",
      "Epoch 104/300\n",
      "781/781 [==============================] - 1s 1ms/step - loss: 0.4301 - accuracy: 0.8610 - val_loss: 0.3876 - val_accuracy: 0.9164\n",
      "Epoch 105/300\n",
      "781/781 [==============================] - 1s 1ms/step - loss: 0.4302 - accuracy: 0.8612 - val_loss: 0.3841 - val_accuracy: 0.9233\n",
      "Epoch 106/300\n",
      "781/781 [==============================] - 1s 1ms/step - loss: 0.4307 - accuracy: 0.8614 - val_loss: 0.3851 - val_accuracy: 0.9220\n",
      "Epoch 107/300\n",
      "781/781 [==============================] - 1s 1ms/step - loss: 0.4309 - accuracy: 0.8612 - val_loss: 0.3860 - val_accuracy: 0.9197\n",
      "Epoch 108/300\n",
      "781/781 [==============================] - 1s 1ms/step - loss: 0.4302 - accuracy: 0.8618 - val_loss: 0.3842 - val_accuracy: 0.9217\n",
      "Epoch 109/300\n",
      "781/781 [==============================] - 1s 1ms/step - loss: 0.4290 - accuracy: 0.8622 - val_loss: 0.3849 - val_accuracy: 0.9200\n",
      "Epoch 110/300\n",
      "781/781 [==============================] - 1s 1ms/step - loss: 0.4290 - accuracy: 0.8610 - val_loss: 0.3832 - val_accuracy: 0.9221\n",
      "Epoch 111/300\n",
      "781/781 [==============================] - 1s 1ms/step - loss: 0.4293 - accuracy: 0.8617 - val_loss: 0.3868 - val_accuracy: 0.9196\n",
      "Epoch 112/300\n",
      "781/781 [==============================] - 1s 1ms/step - loss: 0.4281 - accuracy: 0.8623 - val_loss: 0.3856 - val_accuracy: 0.9203\n",
      "Epoch 113/300\n",
      "781/781 [==============================] - 1s 1ms/step - loss: 0.4296 - accuracy: 0.8610 - val_loss: 0.3858 - val_accuracy: 0.9185\n",
      "Epoch 114/300\n",
      "781/781 [==============================] - 1s 1ms/step - loss: 0.4296 - accuracy: 0.8609 - val_loss: 0.3837 - val_accuracy: 0.9200\n"
     ]
    },
    {
     "name": "stdout",
     "output_type": "stream",
     "text": [
      "Epoch 115/300\n",
      "781/781 [==============================] - 1s 1ms/step - loss: 0.4288 - accuracy: 0.8619 - val_loss: 0.3849 - val_accuracy: 0.9208\n",
      "Epoch 116/300\n",
      "781/781 [==============================] - 1s 1ms/step - loss: 0.4296 - accuracy: 0.8618 - val_loss: 0.3842 - val_accuracy: 0.9217\n",
      "Epoch 117/300\n",
      "781/781 [==============================] - 1s 1ms/step - loss: 0.4284 - accuracy: 0.8612 - val_loss: 0.3835 - val_accuracy: 0.9195\n",
      "Epoch 118/300\n",
      "781/781 [==============================] - 1s 1ms/step - loss: 0.4300 - accuracy: 0.8609 - val_loss: 0.3839 - val_accuracy: 0.9205\n",
      "Epoch 119/300\n",
      "781/781 [==============================] - 1s 1ms/step - loss: 0.4285 - accuracy: 0.8618 - val_loss: 0.3835 - val_accuracy: 0.9223\n",
      "Epoch 120/300\n",
      "781/781 [==============================] - 1s 1ms/step - loss: 0.4297 - accuracy: 0.8607 - val_loss: 0.3849 - val_accuracy: 0.9207\n",
      "Epoch 00120: early stopping\n",
      "<tensorflow.python.keras.callbacks.History object at 0x000001D452B0A0F0>\n"
     ]
    },
    {
     "data": {
      "image/png": "[encoded data removed]",
      "text/plain": [
       "<Figure size 1080x360 with 1 Axes>"
      ]
     },
     "metadata": {
      "needs_background": "light"
     },
     "output_type": "display_data"
    },
    {
     "data": {
      "image/png": "[encoded data removed]",
      "text/plain": [
       "<Figure size 1080x360 with 1 Axes>"
      ]
     },
     "metadata": {
      "needs_background": "light"
     },
     "output_type": "display_data"
    }
   ],
   "source": [
    "model_best = best_model(train_x, test_x, train_y, test_y,input_shape=10, \n",
    "                        batch=200,epoch=300,lr=0.001,decay=0.1,momentum=0.8,af='relu',\n",
    "                        units_L=3,dropout=0.1 ,units_num=10,warm_up=0)\n"
   ]
  },
  {
   "cell_type": "code",
   "execution_count": 22,
   "id": "3c39b3cc",
   "metadata": {},
   "outputs": [],
   "source": [
    "yhat_probs_train = model_best.predict(train_x, verbose=0)\n",
    "yhat_probs_test = model_best.predict(test_x, verbose=0)"
   ]
  },
  {
   "cell_type": "code",
   "execution_count": 23,
   "id": "91ae957b",
   "metadata": {},
   "outputs": [],
   "source": [
    "_,accuracy_tr = model_best.evaluate(train_x, train_y,verbose=0)\n",
    "_,accuracy_te = model_best.evaluate(test_x, test_y,verbose=0)"
   ]
  },
  {
   "cell_type": "code",
   "execution_count": 24,
   "id": "eb6f1522",
   "metadata": {},
   "outputs": [
    {
     "data": {
      "text/plain": [
       "0.878921389579773"
      ]
     },
     "execution_count": 24,
     "metadata": {},
     "output_type": "execute_result"
    }
   ],
   "source": [
    "accuracy_tr"
   ]
  },
  {
   "cell_type": "code",
   "execution_count": 25,
   "id": "2da15dc7",
   "metadata": {},
   "outputs": [
    {
     "data": {
      "text/plain": [
       "0.8794195055961609"
      ]
     },
     "execution_count": 25,
     "metadata": {},
     "output_type": "execute_result"
    }
   ],
   "source": [
    "accuracy_te"
   ]
  },
  {
   "cell_type": "code",
   "execution_count": 26,
   "id": "bff54cce",
   "metadata": {},
   "outputs": [],
   "source": [
    "auc_tr=roc_auc_score(train_y, yhat_probs_train)\n",
    "auc_te=roc_auc_score(test_y, yhat_probs_test)\n"
   ]
  },
  {
   "cell_type": "code",
   "execution_count": 27,
   "id": "c315266d",
   "metadata": {},
   "outputs": [],
   "source": [
    "\n",
    "yhat_probs_test = model_best.predict(test_x, verbose=0)"
   ]
  },
  {
   "cell_type": "code",
   "execution_count": 28,
   "id": "233da21a",
   "metadata": {},
   "outputs": [
    {
     "data": {
      "text/plain": [
       "0.8201639038912784"
      ]
     },
     "execution_count": 28,
     "metadata": {},
     "output_type": "execute_result"
    }
   ],
   "source": [
    "auc_tr"
   ]
  },
  {
   "cell_type": "code",
   "execution_count": 29,
   "id": "db583b2f",
   "metadata": {},
   "outputs": [
    {
     "data": {
      "text/plain": [
       "0.8209831833860304"
      ]
     },
     "execution_count": 29,
     "metadata": {},
     "output_type": "execute_result"
    }
   ],
   "source": [
    "auc_te"
   ]
  },
  {
   "cell_type": "code",
   "execution_count": 31,
   "id": "071749fa",
   "metadata": {},
   "outputs": [],
   "source": [
    "r0=pd.DataFrame([accuracy_tr, accuracy_te,auc_tr,auc_te])\n",
    "\n"
   ]
  },
  {
   "cell_type": "code",
   "execution_count": 32,
   "id": "d458e994",
   "metadata": {},
   "outputs": [
    {
     "name": "stdout",
     "output_type": "stream",
     "text": [
      "(57812, 1)\n",
      "WARNING:tensorflow:From C:\\Users\\PEK\\utils\\visualize.py:37: Sequential.predict_classes (from tensorflow.python.keras.engine.sequential) is deprecated and will be removed after 2021-01-01.\n",
      "Instructions for updating:\n",
      "Please use instead:* `np.argmax(model.predict(x), axis=-1)`,   if your model does multi-class classification   (e.g. if it uses a `softmax` last-layer activation).* `(model.predict(x) > 0.5).astype(\"int32\")`,   if your model does binary classification   (e.g. if it uses a `sigmoid` last-layer activation).\n",
      "=== Accuracy ===\n",
      "Accuracy (train): 0.878921\n",
      "Accuracy (test): 0.879419\n",
      "\n",
      "\n",
      "=== Precision ===\n",
      "Precision (train): 0.501301\n",
      "Precision (test): 0.503753\n",
      "\n",
      "\n",
      "=== Recall ===\n",
      "Recall (train): 0.402965\n",
      "Recall (test): 0.411463\n",
      "\n",
      "\n",
      "=== F1 score ===\n",
      "F1 score (train): 0.446786\n",
      "F1 score (test): 0.452955\n",
      "\n",
      "\n",
      "=== Cohens Kappa ===\n",
      "Cohens kappa (train): 0.379709\n",
      "Cohens kappa (test): 0.385970\n",
      "\n",
      "\n",
      "=== ROC AUC ===\n",
      "ROC AUC for training dataset: 0.820164\n",
      "ROC AUC for testing dataset: 0.820983\n",
      "\n",
      "\n",
      "=== Confusion matrix for train datset ===\n",
      "[[143961   8436]\n",
      " [ 12564   8480]]\n",
      "\n",
      "\n",
      "=== Confusion matrix for test datset ===\n",
      "[[47955  2843]\n",
      " [ 4128  2886]]\n"
     ]
    },
    {
     "data": {
      "image/png": "[encoded data removed]",
      "text/plain": [
       "<Figure size 432x288 with 1 Axes>"
      ]
     },
     "metadata": {
      "needs_background": "light"
     },
     "output_type": "display_data"
    }
   ],
   "source": [
    "from utils.visualize import visualize\n",
    "yhat_probs_train = model_best.predict(train_x, verbose=0)\n",
    "yhat_probs_test = model_best.predict(test_x, verbose=0)\n",
    "print(yhat_probs_test.shape)\n",
    "yhat_classes_train,yhat_classes_test=visualize(yhat_probs_train,yhat_probs_test,model_best,train_x,train_y,test_x,test_y)"
   ]
  },
  {
   "cell_type": "code",
   "execution_count": 33,
   "id": "bfefec0f",
   "metadata": {},
   "outputs": [],
   "source": [
    "# df = pd.DataFrame([1, 23, 3, 5, 2])\n",
    "# df.T"
   ]
  },
  {
   "cell_type": "code",
   "execution_count": 34,
   "id": "3f9046d8",
   "metadata": {},
   "outputs": [],
   "source": [
    "df1 = r0.T"
   ]
  },
  {
   "cell_type": "code",
   "execution_count": 35,
   "id": "d78d552a",
   "metadata": {},
   "outputs": [],
   "source": [
    "df1.columns = ['Train accuracy', 'valid accuracy','Train AUC' ,'Valid AUC' ]"
   ]
  },
  {
   "cell_type": "code",
   "execution_count": 36,
   "id": "12beb560",
   "metadata": {},
   "outputs": [
    {
     "data": {
      "text/html": [
       "<div>\n",
       "<style scoped>\n",
       "    .dataframe tbody tr th:only-of-type {\n",
       "        vertical-align: middle;\n",
       "    }\n",
       "\n",
       "    .dataframe tbody tr th {\n",
       "        vertical-align: top;\n",
       "    }\n",
       "\n",
       "    .dataframe thead th {\n",
       "        text-align: right;\n",
       "    }\n",
       "</style>\n",
       "<table border=\"1\" class=\"dataframe\">\n",
       "  <thead>\n",
       "    <tr style=\"text-align: right;\">\n",
       "      <th></th>\n",
       "      <th>Train accuracy</th>\n",
       "      <th>valid accuracy</th>\n",
       "      <th>Train AUC</th>\n",
       "      <th>Valid AUC</th>\n",
       "    </tr>\n",
       "  </thead>\n",
       "  <tbody>\n",
       "    <tr>\n",
       "      <th>0</th>\n",
       "      <td>0.878921</td>\n",
       "      <td>0.87942</td>\n",
       "      <td>0.820164</td>\n",
       "      <td>0.820983</td>\n",
       "    </tr>\n",
       "  </tbody>\n",
       "</table>\n",
       "</div>"
      ],
      "text/plain": [
       "   Train accuracy  valid accuracy  Test accuracy  Train AUC  Valid AUC  \\\n",
       "0        0.878921         0.87942       0.941817   0.820164   0.820983   \n",
       "\n",
       "   Test AUC  \n",
       "0   0.69787  "
      ]
     },
     "execution_count": 36,
     "metadata": {},
     "output_type": "execute_result"
    }
   ],
   "source": [
    "df1"
   ]
  },
  {
   "cell_type": "code",
   "execution_count": 38,
   "id": "84824714",
   "metadata": {},
   "outputs": [],
   "source": [
    "import numpy as np"
   ]
  },
  {
   "cell_type": "code",
   "execution_count": 39,
   "id": "46b2d204",
   "metadata": {},
   "outputs": [
    {
     "data": {
      "text/plain": [
       "array([0, 0, 0, ..., 0, 0, 0], dtype=int64)"
      ]
     },
     "execution_count": 39,
     "metadata": {},
     "output_type": "execute_result"
    }
   ],
   "source": [
    "predict_train=model_best.predict(train_x) \n",
    "classes_train_pred=np.argmax(predict_train,axis=1)\n",
    "classes_train_pred"
   ]
  },
  {
   "cell_type": "code",
   "execution_count": 40,
   "id": "3b878a9a",
   "metadata": {},
   "outputs": [
    {
     "data": {
      "text/plain": [
       "array([0, 0, 0, ..., 0, 0, 0], dtype=int64)"
      ]
     },
     "execution_count": 40,
     "metadata": {},
     "output_type": "execute_result"
    }
   ],
   "source": [
    "predict_test=model_best.predict(test_x) \n",
    "classes_test_pred=np.argmax(predict_test,axis=1)\n",
    "classes_test_pred"
   ]
  },
  {
   "cell_type": "code",
   "execution_count": 41,
   "id": "c546ab36",
   "metadata": {},
   "outputs": [],
   "source": [
    "train_y = pd.DataFrame(train_y)\n",
    "classes_train_pred = pd.DataFrame(classes_train_pred)\n",
    "yhat_probs_train = pd.DataFrame(yhat_probs_train)"
   ]
  },
  {
   "cell_type": "code",
   "execution_count": 42,
   "id": "d6eabbe1",
   "metadata": {},
   "outputs": [
    {
     "data": {
      "text/html": [
       "<div>\n",
       "<style scoped>\n",
       "    .dataframe tbody tr th:only-of-type {\n",
       "        vertical-align: middle;\n",
       "    }\n",
       "\n",
       "    .dataframe tbody tr th {\n",
       "        vertical-align: top;\n",
       "    }\n",
       "\n",
       "    .dataframe thead th {\n",
       "        text-align: right;\n",
       "    }\n",
       "</style>\n",
       "<table border=\"1\" class=\"dataframe\">\n",
       "  <thead>\n",
       "    <tr style=\"text-align: right;\">\n",
       "      <th></th>\n",
       "      <th>si1m</th>\n",
       "      <th>0</th>\n",
       "      <th>0</th>\n",
       "    </tr>\n",
       "  </thead>\n",
       "  <tbody>\n",
       "    <tr>\n",
       "      <th>0</th>\n",
       "      <td>1</td>\n",
       "      <td>0</td>\n",
       "      <td>0.309914</td>\n",
       "    </tr>\n",
       "    <tr>\n",
       "      <th>1</th>\n",
       "      <td>1</td>\n",
       "      <td>0</td>\n",
       "      <td>0.332529</td>\n",
       "    </tr>\n",
       "    <tr>\n",
       "      <th>2</th>\n",
       "      <td>1</td>\n",
       "      <td>0</td>\n",
       "      <td>0.324410</td>\n",
       "    </tr>\n",
       "    <tr>\n",
       "      <th>3</th>\n",
       "      <td>1</td>\n",
       "      <td>0</td>\n",
       "      <td>0.357666</td>\n",
       "    </tr>\n",
       "    <tr>\n",
       "      <th>4</th>\n",
       "      <td>1</td>\n",
       "      <td>0</td>\n",
       "      <td>0.278777</td>\n",
       "    </tr>\n",
       "    <tr>\n",
       "      <th>...</th>\n",
       "      <td>...</td>\n",
       "      <td>...</td>\n",
       "      <td>...</td>\n",
       "    </tr>\n",
       "    <tr>\n",
       "      <th>173436</th>\n",
       "      <td>0</td>\n",
       "      <td>0</td>\n",
       "      <td>0.146285</td>\n",
       "    </tr>\n",
       "    <tr>\n",
       "      <th>173437</th>\n",
       "      <td>0</td>\n",
       "      <td>0</td>\n",
       "      <td>0.121995</td>\n",
       "    </tr>\n",
       "    <tr>\n",
       "      <th>173438</th>\n",
       "      <td>0</td>\n",
       "      <td>0</td>\n",
       "      <td>0.112169</td>\n",
       "    </tr>\n",
       "    <tr>\n",
       "      <th>173439</th>\n",
       "      <td>0</td>\n",
       "      <td>0</td>\n",
       "      <td>0.111108</td>\n",
       "    </tr>\n",
       "    <tr>\n",
       "      <th>173440</th>\n",
       "      <td>0</td>\n",
       "      <td>0</td>\n",
       "      <td>0.123848</td>\n",
       "    </tr>\n",
       "  </tbody>\n",
       "</table>\n",
       "<p>173441 rows × 3 columns</p>\n",
       "</div>"
      ],
      "text/plain": [
       "        si1m  0         0\n",
       "0          1  0  0.309914\n",
       "1          1  0  0.332529\n",
       "2          1  0  0.324410\n",
       "3          1  0  0.357666\n",
       "4          1  0  0.278777\n",
       "...      ... ..       ...\n",
       "173436     0  0  0.146285\n",
       "173437     0  0  0.121995\n",
       "173438     0  0  0.112169\n",
       "173439     0  0  0.111108\n",
       "173440     0  0  0.123848\n",
       "\n",
       "[173441 rows x 3 columns]"
      ]
     },
     "execution_count": 42,
     "metadata": {},
     "output_type": "execute_result"
    }
   ],
   "source": [
    "train_result= pd.concat([train_y, classes_train_pred,yhat_probs_train], axis=1)\n",
    "train_result"
   ]
  },
  {
   "cell_type": "code",
   "execution_count": 43,
   "id": "a88e6617",
   "metadata": {},
   "outputs": [],
   "source": [
    "train_result.columns =  ['sofa3m', 'class_pred', 'prob_pred']"
   ]
  },
  {
   "cell_type": "code",
   "execution_count": 44,
   "id": "81ac3f2f",
   "metadata": {},
   "outputs": [],
   "source": [
    "train_result.to_csv('dnn for si over 1 in mimic train result ver2 20230223.csv')"
   ]
  },
  {
   "cell_type": "code",
   "execution_count": 45,
   "id": "4b2e94d5",
   "metadata": {},
   "outputs": [],
   "source": [
    "test_y = pd.DataFrame(test_y)\n",
    "classes_test_pred = pd.DataFrame(classes_test_pred)\n",
    "yhat_probs_test = pd.DataFrame(yhat_probs_test)"
   ]
  },
  {
   "cell_type": "code",
   "execution_count": 46,
   "id": "4831f3d1",
   "metadata": {},
   "outputs": [
    {
     "data": {
      "text/html": [
       "<div>\n",
       "<style scoped>\n",
       "    .dataframe tbody tr th:only-of-type {\n",
       "        vertical-align: middle;\n",
       "    }\n",
       "\n",
       "    .dataframe tbody tr th {\n",
       "        vertical-align: top;\n",
       "    }\n",
       "\n",
       "    .dataframe thead th {\n",
       "        text-align: right;\n",
       "    }\n",
       "</style>\n",
       "<table border=\"1\" class=\"dataframe\">\n",
       "  <thead>\n",
       "    <tr style=\"text-align: right;\">\n",
       "      <th></th>\n",
       "      <th>0</th>\n",
       "      <th>0</th>\n",
       "      <th>0</th>\n",
       "    </tr>\n",
       "  </thead>\n",
       "  <tbody>\n",
       "    <tr>\n",
       "      <th>0</th>\n",
       "      <td>0</td>\n",
       "      <td>0</td>\n",
       "      <td>0.441863</td>\n",
       "    </tr>\n",
       "    <tr>\n",
       "      <th>1</th>\n",
       "      <td>0</td>\n",
       "      <td>0</td>\n",
       "      <td>0.455183</td>\n",
       "    </tr>\n",
       "    <tr>\n",
       "      <th>2</th>\n",
       "      <td>0</td>\n",
       "      <td>0</td>\n",
       "      <td>0.567810</td>\n",
       "    </tr>\n",
       "    <tr>\n",
       "      <th>3</th>\n",
       "      <td>0</td>\n",
       "      <td>0</td>\n",
       "      <td>0.447865</td>\n",
       "    </tr>\n",
       "    <tr>\n",
       "      <th>4</th>\n",
       "      <td>0</td>\n",
       "      <td>0</td>\n",
       "      <td>0.329339</td>\n",
       "    </tr>\n",
       "    <tr>\n",
       "      <th>...</th>\n",
       "      <td>...</td>\n",
       "      <td>...</td>\n",
       "      <td>...</td>\n",
       "    </tr>\n",
       "    <tr>\n",
       "      <th>57807</th>\n",
       "      <td>0</td>\n",
       "      <td>0</td>\n",
       "      <td>0.137691</td>\n",
       "    </tr>\n",
       "    <tr>\n",
       "      <th>57808</th>\n",
       "      <td>0</td>\n",
       "      <td>0</td>\n",
       "      <td>0.173248</td>\n",
       "    </tr>\n",
       "    <tr>\n",
       "      <th>57809</th>\n",
       "      <td>0</td>\n",
       "      <td>0</td>\n",
       "      <td>0.199279</td>\n",
       "    </tr>\n",
       "    <tr>\n",
       "      <th>57810</th>\n",
       "      <td>0</td>\n",
       "      <td>0</td>\n",
       "      <td>0.300640</td>\n",
       "    </tr>\n",
       "    <tr>\n",
       "      <th>57811</th>\n",
       "      <td>0</td>\n",
       "      <td>0</td>\n",
       "      <td>0.266095</td>\n",
       "    </tr>\n",
       "  </tbody>\n",
       "</table>\n",
       "<p>57812 rows × 3 columns</p>\n",
       "</div>"
      ],
      "text/plain": [
       "       0  0         0\n",
       "0      0  0  0.441863\n",
       "1      0  0  0.455183\n",
       "2      0  0  0.567810\n",
       "3      0  0  0.447865\n",
       "4      0  0  0.329339\n",
       "...   .. ..       ...\n",
       "57807  0  0  0.137691\n",
       "57808  0  0  0.173248\n",
       "57809  0  0  0.199279\n",
       "57810  0  0  0.300640\n",
       "57811  0  0  0.266095\n",
       "\n",
       "[57812 rows x 3 columns]"
      ]
     },
     "execution_count": 46,
     "metadata": {},
     "output_type": "execute_result"
    }
   ],
   "source": [
    "test_result= pd.concat([classes_test_pred, classes_test_pred,yhat_probs_test], axis=1)\n",
    "test_result"
   ]
  },
  {
   "cell_type": "code",
   "execution_count": 47,
   "id": "f32d0adb",
   "metadata": {},
   "outputs": [],
   "source": [
    "test_result.columns =  ['sofa3m', 'class_pred', 'prob_pred']"
   ]
  },
  {
   "cell_type": "code",
   "execution_count": 48,
   "id": "037a8834",
   "metadata": {},
   "outputs": [],
   "source": [
    "test_result.to_csv('dnn for si over 1 in mimic test result ver2 20230223.csv')"
   ]
  }
 ],
 "metadata": {
  "kernelspec": {
   "display_name": "Python 3",
   "language": "python",
   "name": "python3"
  },
  "language_info": {
   "codemirror_mode": {
    "name": "ipython",
    "version": 3
   },
   "file_extension": ".py",
   "mimetype": "text/x-python",
   "name": "python",
   "nbconvert_exporter": "python",
   "pygments_lexer": "ipython3",
   "version": "3.6.8"
  }
 },
 "nbformat": 4,
 "nbformat_minor": 5
}
